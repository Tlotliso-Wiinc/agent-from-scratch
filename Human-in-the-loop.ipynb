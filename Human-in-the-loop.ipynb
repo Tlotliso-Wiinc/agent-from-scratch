{
 "cells": [
  {
   "cell_type": "markdown",
   "id": "8ad976db-fb87-4a92-b0d2-06defc098339",
   "metadata": {},
   "source": [
    "# Human in the Loop"
   ]
  },
  {
   "cell_type": "markdown",
   "id": "91d756c3-9c97-4155-9b56-8ecfed5f1876",
   "metadata": {},
   "source": [
    "Note: This notebook is running in a later version of langgraph that it was filmed with. The later version has a couple of key additions:\n",
    "- Additional state information is stored to memory and displayed when using `get_state()` or `get_state_history()`.\n",
    "- State is additionally stored every state transition while previously it was stored at an interrupt or at the end.\n",
    "These change the command output slightly, but are a useful addtion to the information available."
   ]
  },
  {
   "cell_type": "code",
   "execution_count": 17,
   "id": "f5762271-8736-4e94-9444-8c92bd0e8074",
   "metadata": {
    "height": 64
   },
   "outputs": [],
   "source": [
    "from dotenv import load_dotenv\n",
    "\n",
    "_ = load_dotenv()"
   ]
  },
  {
   "cell_type": "code",
   "execution_count": 18,
   "id": "d0168aee-bce9-4d60-b827-f86a88187e31",
   "metadata": {
    "height": 166
   },
   "outputs": [],
   "source": [
    "from langgraph.graph import StateGraph, END\n",
    "from typing import TypedDict, Annotated\n",
    "import operator\n",
    "from langchain_core.messages import AnyMessage, SystemMessage, HumanMessage, ToolMessage\n",
    "from langchain_openai import ChatOpenAI\n",
    "from langchain_community.tools.tavily_search import TavilySearchResults\n",
    "from langgraph.checkpoint.sqlite import SqliteSaver\n",
    "\n",
    "memory = SqliteSaver.from_conn_string(\":memory:\")"
   ]
  },
  {
   "cell_type": "code",
   "execution_count": 19,
   "id": "2589c5b6-6cc2-4594-9a17-dccdcf676054",
   "metadata": {
    "height": 557
   },
   "outputs": [],
   "source": [
    "from uuid import uuid4\n",
    "from langchain_core.messages import AnyMessage, SystemMessage, HumanMessage, AIMessage\n",
    "\n",
    "\"\"\"\n",
    "In previous examples we've annotated the `messages` state key\n",
    "with the default `operator.add` or `+` reducer, which always\n",
    "appends new messages to the end of the existing messages array.\n",
    "\n",
    "Now, to support replacing existing messages, we annotate the\n",
    "`messages` key with a customer reducer function, which replaces\n",
    "messages with the same `id`, and appends them otherwise.\n",
    "\"\"\"\n",
    "def reduce_messages(left: list[AnyMessage], right: list[AnyMessage]) -> list[AnyMessage]:\n",
    "    # assign ids to messages that don't have them\n",
    "    for message in right:\n",
    "        if not message.id:\n",
    "            message.id = str(uuid4())\n",
    "    # merge the new messages with the existing messages\n",
    "    merged = left.copy()\n",
    "    for message in right:\n",
    "        for i, existing in enumerate(merged):\n",
    "            # replace any existing messages with the same id\n",
    "            if existing.id == message.id:\n",
    "                merged[i] = message\n",
    "                break\n",
    "        else:\n",
    "            # append any new messages to the end\n",
    "            merged.append(message)\n",
    "    return merged\n",
    "\n",
    "class AgentState(TypedDict):\n",
    "    messages: Annotated[list[AnyMessage], reduce_messages]"
   ]
  },
  {
   "cell_type": "code",
   "execution_count": 20,
   "id": "a2ba84ec-c172-4de7-ac55-e3158a531b23",
   "metadata": {
    "height": 30
   },
   "outputs": [],
   "source": [
    "tool = TavilySearchResults(max_results=2)"
   ]
  },
  {
   "cell_type": "markdown",
   "id": "d58320dc-c542-4a3c-bcf1-088909f9b075",
   "metadata": {},
   "source": [
    "## Manual human approval"
   ]
  },
  {
   "cell_type": "code",
   "execution_count": 21,
   "id": "46a0e94e-d015-4106-b439-dbcd2fcb8bb0",
   "metadata": {
    "height": 642
   },
   "outputs": [],
   "source": [
    "class Agent:\n",
    "    def __init__(self, model, tools, system=\"\", checkpointer=None):\n",
    "        self.system = system\n",
    "        graph = StateGraph(AgentState)\n",
    "        graph.add_node(\"llm\", self.call_openai)\n",
    "        graph.add_node(\"action\", self.take_action)\n",
    "        graph.add_conditional_edges(\"llm\", self.exists_action, {True: \"action\", False: END})\n",
    "        graph.add_edge(\"action\", \"llm\")\n",
    "        graph.set_entry_point(\"llm\")\n",
    "        self.graph = graph.compile(\n",
    "            checkpointer=checkpointer,\n",
    "            interrupt_before=[\"action\"]\n",
    "        )\n",
    "        self.tools = {t.name: t for t in tools}\n",
    "        self.model = model.bind_tools(tools)\n",
    "\n",
    "    def call_openai(self, state: AgentState):\n",
    "        messages = state['messages']\n",
    "        if self.system:\n",
    "            messages = [SystemMessage(content=self.system)] + messages\n",
    "        message = self.model.invoke(messages)\n",
    "        return {'messages': [message]}\n",
    "\n",
    "    def exists_action(self, state: AgentState):\n",
    "        print(state)\n",
    "        result = state['messages'][-1]\n",
    "        return len(result.tool_calls) > 0\n",
    "\n",
    "    def take_action(self, state: AgentState):\n",
    "        tool_calls = state['messages'][-1].tool_calls\n",
    "        results = []\n",
    "        for t in tool_calls:\n",
    "            print(f\"Calling: {t}\")\n",
    "            result = self.tools[t['name']].invoke(t['args'])\n",
    "            results.append(ToolMessage(tool_call_id=t['id'], name=t['name'], content=str(result)))\n",
    "        print(\"Back to the model!\")\n",
    "        return {'messages': results}"
   ]
  },
  {
   "cell_type": "code",
   "execution_count": 22,
   "id": "10084a02-2928-4945-9f7c-ad3f5b33caf7",
   "metadata": {
    "height": 132
   },
   "outputs": [],
   "source": [
    "prompt = \"\"\"You are a smart research assistant. Use the search engine to look up information. \\\n",
    "You are allowed to make multiple calls (either together or in sequence). \\\n",
    "Only look up information when you are sure of what you want. \\\n",
    "If you need to look up some information before asking a follow up question, you are allowed to do that!\n",
    "\"\"\"\n",
    "model = ChatOpenAI(model=\"gpt-3.5-turbo\")\n",
    "abot = Agent(model, [tool], system=prompt, checkpointer=memory)"
   ]
  },
  {
   "cell_type": "code",
   "execution_count": 23,
   "id": "714d1205-f8fc-4912-b148-2a45da99219c",
   "metadata": {
    "height": 98
   },
   "outputs": [
    {
     "name": "stdout",
     "output_type": "stream",
     "text": [
      "{'messages': [HumanMessage(content='Whats the weather in SF?', id='0f397103-8777-417f-a7b7-b676fd46c939'), AIMessage(content='', additional_kwargs={'tool_calls': [{'id': 'call_i7rGhnzgZf5hW3bsDcqdTrH0', 'function': {'arguments': '{\"query\":\"weather in San Francisco\"}', 'name': 'tavily_search_results_json'}, 'type': 'function'}]}, response_metadata={'token_usage': {'completion_tokens': 22, 'prompt_tokens': 152, 'total_tokens': 174, 'prompt_tokens_details': {'cached_tokens': 0, 'audio_tokens': 0}, 'completion_tokens_details': {'reasoning_tokens': 0, 'audio_tokens': 0, 'accepted_prediction_tokens': 0, 'rejected_prediction_tokens': 0}}, 'model_name': 'gpt-3.5-turbo', 'system_fingerprint': None, 'finish_reason': 'tool_calls', 'logprobs': None}, id='run-56841cd4-5222-4691-ba9c-26f715c022a2-0', tool_calls=[{'name': 'tavily_search_results_json', 'args': {'query': 'weather in San Francisco'}, 'id': 'call_i7rGhnzgZf5hW3bsDcqdTrH0'}])]}\n",
      "{'messages': [AIMessage(content='', additional_kwargs={'tool_calls': [{'id': 'call_i7rGhnzgZf5hW3bsDcqdTrH0', 'function': {'arguments': '{\"query\":\"weather in San Francisco\"}', 'name': 'tavily_search_results_json'}, 'type': 'function'}]}, response_metadata={'token_usage': {'completion_tokens': 22, 'prompt_tokens': 152, 'total_tokens': 174, 'prompt_tokens_details': {'cached_tokens': 0, 'audio_tokens': 0}, 'completion_tokens_details': {'reasoning_tokens': 0, 'audio_tokens': 0, 'accepted_prediction_tokens': 0, 'rejected_prediction_tokens': 0}}, 'model_name': 'gpt-3.5-turbo', 'system_fingerprint': None, 'finish_reason': 'tool_calls', 'logprobs': None}, id='run-56841cd4-5222-4691-ba9c-26f715c022a2-0', tool_calls=[{'name': 'tavily_search_results_json', 'args': {'query': 'weather in San Francisco'}, 'id': 'call_i7rGhnzgZf5hW3bsDcqdTrH0'}])]}\n"
     ]
    }
   ],
   "source": [
    "messages = [HumanMessage(content=\"Whats the weather in SF?\")]\n",
    "thread = {\"configurable\": {\"thread_id\": \"1\"}}\n",
    "for event in abot.graph.stream({\"messages\": messages}, thread):\n",
    "    for v in event.values():\n",
    "        print(v)"
   ]
  },
  {
   "cell_type": "code",
   "execution_count": 24,
   "id": "83588e70-254f-4f83-a510-c8ae81e729b0",
   "metadata": {
    "height": 30
   },
   "outputs": [
    {
     "data": {
      "text/plain": [
       "StateSnapshot(values={'messages': [HumanMessage(content='Whats the weather in SF?', id='0f397103-8777-417f-a7b7-b676fd46c939'), AIMessage(content='', additional_kwargs={'tool_calls': [{'function': {'arguments': '{\"query\":\"weather in San Francisco\"}', 'name': 'tavily_search_results_json'}, 'id': 'call_i7rGhnzgZf5hW3bsDcqdTrH0', 'type': 'function'}]}, response_metadata={'finish_reason': 'tool_calls', 'logprobs': None, 'model_name': 'gpt-3.5-turbo', 'system_fingerprint': None, 'token_usage': {'completion_tokens': 22, 'completion_tokens_details': {'accepted_prediction_tokens': 0, 'audio_tokens': 0, 'reasoning_tokens': 0, 'rejected_prediction_tokens': 0}, 'prompt_tokens': 152, 'prompt_tokens_details': {'audio_tokens': 0, 'cached_tokens': 0}, 'total_tokens': 174}}, id='run-56841cd4-5222-4691-ba9c-26f715c022a2-0', tool_calls=[{'name': 'tavily_search_results_json', 'args': {'query': 'weather in San Francisco'}, 'id': 'call_i7rGhnzgZf5hW3bsDcqdTrH0'}])]}, next=('action',), config={'configurable': {'thread_id': '1', 'thread_ts': '1f0502c1-37a2-6862-8001-0cb8abfb8893'}}, metadata={'source': 'loop', 'step': 1, 'writes': {'llm': {'messages': [AIMessage(content='', additional_kwargs={'tool_calls': [{'function': {'arguments': '{\"query\":\"weather in San Francisco\"}', 'name': 'tavily_search_results_json'}, 'id': 'call_i7rGhnzgZf5hW3bsDcqdTrH0', 'type': 'function'}]}, response_metadata={'finish_reason': 'tool_calls', 'logprobs': None, 'model_name': 'gpt-3.5-turbo', 'system_fingerprint': None, 'token_usage': {'completion_tokens': 22, 'completion_tokens_details': {'accepted_prediction_tokens': 0, 'audio_tokens': 0, 'reasoning_tokens': 0, 'rejected_prediction_tokens': 0}, 'prompt_tokens': 152, 'prompt_tokens_details': {'audio_tokens': 0, 'cached_tokens': 0}, 'total_tokens': 174}}, id='run-56841cd4-5222-4691-ba9c-26f715c022a2-0', tool_calls=[{'name': 'tavily_search_results_json', 'args': {'query': 'weather in San Francisco'}, 'id': 'call_i7rGhnzgZf5hW3bsDcqdTrH0'}])]}}}, created_at='2025-06-23T12:17:48.404111+00:00', parent_config={'configurable': {'thread_id': '1', 'thread_ts': '1f0502c1-375e-6177-8000-8d1d492b641b'}})"
      ]
     },
     "execution_count": 24,
     "metadata": {},
     "output_type": "execute_result"
    }
   ],
   "source": [
    "abot.graph.get_state(thread)"
   ]
  },
  {
   "cell_type": "code",
   "execution_count": 25,
   "id": "6cb3ef4c-58b3-401b-b104-0d51e553d982",
   "metadata": {
    "height": 30
   },
   "outputs": [
    {
     "data": {
      "text/plain": [
       "('action',)"
      ]
     },
     "execution_count": 25,
     "metadata": {},
     "output_type": "execute_result"
    }
   ],
   "source": [
    "abot.graph.get_state(thread).next"
   ]
  },
  {
   "cell_type": "markdown",
   "id": "f1f404d5-a3be-42c1-9990-b1e1ee011163",
   "metadata": {},
   "source": [
    "### continue after interrupt"
   ]
  },
  {
   "cell_type": "code",
   "execution_count": 26,
   "id": "dc3293b7-a50c-43c8-a022-8975e1e444b8",
   "metadata": {
    "height": 64
   },
   "outputs": [
    {
     "name": "stdout",
     "output_type": "stream",
     "text": [
      "Calling: {'name': 'tavily_search_results_json', 'args': {'query': 'weather in San Francisco'}, 'id': 'call_i7rGhnzgZf5hW3bsDcqdTrH0'}\n",
      "Back to the model!\n",
      "{'messages': [ToolMessage(content=\"[{'url': 'https://weathershogun.com/weather/usa/ca/san-francisco/480/june/2025-06-23', 'content': 'San Francisco, California Weather: Monday, June 23, 2025. Sunny weather, clear skies and sunny weather. Day 61°. Night 52°.'}, {'url': 'https://world-weather.info/forecast/usa/san_francisco/june-2025/', 'content': '*   [23 +64° +52°](https://world-weather.info/forecast/usa/san_francisco/14days/#2025-06-23)\\\\n*   [24 +64° +54°](https://world-weather.info/forecast/usa/san_francisco/14days/#2025-06-24)\\\\n*   [25 +63° +54°](https://world-weather.info/forecast/usa/san_francisco/14days/#2025-06-25)\\\\n*   [26 +63° +52°](https://world-weather.info/forecast/usa/san_francisco/14days/#2025-06-26)\\\\n*   [27 +66° +52°](https://world-weather.info/forecast/usa/san_francisco/14days/#2025-06-27)'}]\", name='tavily_search_results_json', id='88283d79-d1d5-4580-a4cc-74ab02fd12ae', tool_call_id='call_i7rGhnzgZf5hW3bsDcqdTrH0')]}\n",
      "{'messages': [HumanMessage(content='Whats the weather in SF?', id='0f397103-8777-417f-a7b7-b676fd46c939'), AIMessage(content='', additional_kwargs={'tool_calls': [{'function': {'arguments': '{\"query\":\"weather in San Francisco\"}', 'name': 'tavily_search_results_json'}, 'id': 'call_i7rGhnzgZf5hW3bsDcqdTrH0', 'type': 'function'}]}, response_metadata={'finish_reason': 'tool_calls', 'logprobs': None, 'model_name': 'gpt-3.5-turbo', 'system_fingerprint': None, 'token_usage': {'completion_tokens': 22, 'completion_tokens_details': {'accepted_prediction_tokens': 0, 'audio_tokens': 0, 'reasoning_tokens': 0, 'rejected_prediction_tokens': 0}, 'prompt_tokens': 152, 'prompt_tokens_details': {'audio_tokens': 0, 'cached_tokens': 0}, 'total_tokens': 174}}, id='run-56841cd4-5222-4691-ba9c-26f715c022a2-0', tool_calls=[{'name': 'tavily_search_results_json', 'args': {'query': 'weather in San Francisco'}, 'id': 'call_i7rGhnzgZf5hW3bsDcqdTrH0'}]), ToolMessage(content=\"[{'url': 'https://weathershogun.com/weather/usa/ca/san-francisco/480/june/2025-06-23', 'content': 'San Francisco, California Weather: Monday, June 23, 2025. Sunny weather, clear skies and sunny weather. Day 61°. Night 52°.'}, {'url': 'https://world-weather.info/forecast/usa/san_francisco/june-2025/', 'content': '*   [23 +64° +52°](https://world-weather.info/forecast/usa/san_francisco/14days/#2025-06-23)\\\\n*   [24 +64° +54°](https://world-weather.info/forecast/usa/san_francisco/14days/#2025-06-24)\\\\n*   [25 +63° +54°](https://world-weather.info/forecast/usa/san_francisco/14days/#2025-06-25)\\\\n*   [26 +63° +52°](https://world-weather.info/forecast/usa/san_francisco/14days/#2025-06-26)\\\\n*   [27 +66° +52°](https://world-weather.info/forecast/usa/san_francisco/14days/#2025-06-27)'}]\", name='tavily_search_results_json', id='88283d79-d1d5-4580-a4cc-74ab02fd12ae', tool_call_id='call_i7rGhnzgZf5hW3bsDcqdTrH0'), AIMessage(content='The weather in San Francisco today is sunny with clear skies. The temperature during the day is 61°F and at night it drops to 52°F.', response_metadata={'token_usage': {'completion_tokens': 32, 'prompt_tokens': 477, 'total_tokens': 509, 'prompt_tokens_details': {'cached_tokens': 0, 'audio_tokens': 0}, 'completion_tokens_details': {'reasoning_tokens': 0, 'audio_tokens': 0, 'accepted_prediction_tokens': 0, 'rejected_prediction_tokens': 0}}, 'model_name': 'gpt-3.5-turbo', 'system_fingerprint': None, 'finish_reason': 'stop', 'logprobs': None}, id='run-5b7b3bff-13dd-4cba-8faf-347e7a325cd3-0')]}\n",
      "{'messages': [AIMessage(content='The weather in San Francisco today is sunny with clear skies. The temperature during the day is 61°F and at night it drops to 52°F.', response_metadata={'token_usage': {'completion_tokens': 32, 'prompt_tokens': 477, 'total_tokens': 509, 'prompt_tokens_details': {'cached_tokens': 0, 'audio_tokens': 0}, 'completion_tokens_details': {'reasoning_tokens': 0, 'audio_tokens': 0, 'accepted_prediction_tokens': 0, 'rejected_prediction_tokens': 0}}, 'model_name': 'gpt-3.5-turbo', 'system_fingerprint': None, 'finish_reason': 'stop', 'logprobs': None}, id='run-5b7b3bff-13dd-4cba-8faf-347e7a325cd3-0')]}\n"
     ]
    }
   ],
   "source": [
    "for event in abot.graph.stream(None, thread):\n",
    "    for v in event.values():\n",
    "        print(v)"
   ]
  },
  {
   "cell_type": "code",
   "execution_count": 27,
   "id": "0722c3d4-4cbf-43bf-81b0-50f634c4ce61",
   "metadata": {
    "height": 30
   },
   "outputs": [
    {
     "data": {
      "text/plain": [
       "StateSnapshot(values={'messages': [HumanMessage(content='Whats the weather in SF?', id='0f397103-8777-417f-a7b7-b676fd46c939'), AIMessage(content='', additional_kwargs={'tool_calls': [{'function': {'arguments': '{\"query\":\"weather in San Francisco\"}', 'name': 'tavily_search_results_json'}, 'id': 'call_i7rGhnzgZf5hW3bsDcqdTrH0', 'type': 'function'}]}, response_metadata={'finish_reason': 'tool_calls', 'logprobs': None, 'model_name': 'gpt-3.5-turbo', 'system_fingerprint': None, 'token_usage': {'completion_tokens': 22, 'completion_tokens_details': {'accepted_prediction_tokens': 0, 'audio_tokens': 0, 'reasoning_tokens': 0, 'rejected_prediction_tokens': 0}, 'prompt_tokens': 152, 'prompt_tokens_details': {'audio_tokens': 0, 'cached_tokens': 0}, 'total_tokens': 174}}, id='run-56841cd4-5222-4691-ba9c-26f715c022a2-0', tool_calls=[{'name': 'tavily_search_results_json', 'args': {'query': 'weather in San Francisco'}, 'id': 'call_i7rGhnzgZf5hW3bsDcqdTrH0'}]), ToolMessage(content=\"[{'url': 'https://weathershogun.com/weather/usa/ca/san-francisco/480/june/2025-06-23', 'content': 'San Francisco, California Weather: Monday, June 23, 2025. Sunny weather, clear skies and sunny weather. Day 61°. Night 52°.'}, {'url': 'https://world-weather.info/forecast/usa/san_francisco/june-2025/', 'content': '*   [23 +64° +52°](https://world-weather.info/forecast/usa/san_francisco/14days/#2025-06-23)\\\\n*   [24 +64° +54°](https://world-weather.info/forecast/usa/san_francisco/14days/#2025-06-24)\\\\n*   [25 +63° +54°](https://world-weather.info/forecast/usa/san_francisco/14days/#2025-06-25)\\\\n*   [26 +63° +52°](https://world-weather.info/forecast/usa/san_francisco/14days/#2025-06-26)\\\\n*   [27 +66° +52°](https://world-weather.info/forecast/usa/san_francisco/14days/#2025-06-27)'}]\", name='tavily_search_results_json', id='88283d79-d1d5-4580-a4cc-74ab02fd12ae', tool_call_id='call_i7rGhnzgZf5hW3bsDcqdTrH0'), AIMessage(content='The weather in San Francisco today is sunny with clear skies. The temperature during the day is 61°F and at night it drops to 52°F.', response_metadata={'finish_reason': 'stop', 'logprobs': None, 'model_name': 'gpt-3.5-turbo', 'system_fingerprint': None, 'token_usage': {'completion_tokens': 32, 'completion_tokens_details': {'accepted_prediction_tokens': 0, 'audio_tokens': 0, 'reasoning_tokens': 0, 'rejected_prediction_tokens': 0}, 'prompt_tokens': 477, 'prompt_tokens_details': {'audio_tokens': 0, 'cached_tokens': 0}, 'total_tokens': 509}}, id='run-5b7b3bff-13dd-4cba-8faf-347e7a325cd3-0')]}, next=(), config={'configurable': {'thread_id': '1', 'thread_ts': '1f0502c5-1932-6bb3-8003-c6b38cb9bd4c'}}, metadata={'source': 'loop', 'step': 3, 'writes': {'llm': {'messages': [AIMessage(content='The weather in San Francisco today is sunny with clear skies. The temperature during the day is 61°F and at night it drops to 52°F.', response_metadata={'finish_reason': 'stop', 'logprobs': None, 'model_name': 'gpt-3.5-turbo', 'system_fingerprint': None, 'token_usage': {'completion_tokens': 32, 'completion_tokens_details': {'accepted_prediction_tokens': 0, 'audio_tokens': 0, 'reasoning_tokens': 0, 'rejected_prediction_tokens': 0}, 'prompt_tokens': 477, 'prompt_tokens_details': {'audio_tokens': 0, 'cached_tokens': 0}, 'total_tokens': 509}}, id='run-5b7b3bff-13dd-4cba-8faf-347e7a325cd3-0')]}}}, created_at='2025-06-23T12:19:32.586777+00:00', parent_config={'configurable': {'thread_id': '1', 'thread_ts': '1f0502c5-18fa-6b8f-8002-d833e1f9e7b2'}})"
      ]
     },
     "execution_count": 27,
     "metadata": {},
     "output_type": "execute_result"
    }
   ],
   "source": [
    "abot.graph.get_state(thread)"
   ]
  },
  {
   "cell_type": "code",
   "execution_count": 28,
   "id": "6b2f82fe-3ec4-4917-be51-9fb10d1317fa",
   "metadata": {
    "height": 30
   },
   "outputs": [
    {
     "data": {
      "text/plain": [
       "()"
      ]
     },
     "execution_count": 28,
     "metadata": {},
     "output_type": "execute_result"
    }
   ],
   "source": [
    "abot.graph.get_state(thread).next"
   ]
  },
  {
   "cell_type": "code",
   "execution_count": 29,
   "id": "ee0fe1c7-77e2-499c-a2f9-1f739bb6ddf0",
   "metadata": {
    "height": 251
   },
   "outputs": [
    {
     "name": "stdout",
     "output_type": "stream",
     "text": [
      "{'messages': [HumanMessage(content='Whats the weather in LA?', id='f192e560-6e62-4770-ac34-383595ff5cee'), AIMessage(content='', additional_kwargs={'tool_calls': [{'id': 'call_6ED1ZQ8nrjYIOY14yqInLPZc', 'function': {'arguments': '{\"query\":\"weather in Los Angeles\"}', 'name': 'tavily_search_results_json'}, 'type': 'function'}]}, response_metadata={'token_usage': {'completion_tokens': 22, 'prompt_tokens': 152, 'total_tokens': 174, 'prompt_tokens_details': {'cached_tokens': 0, 'audio_tokens': 0}, 'completion_tokens_details': {'reasoning_tokens': 0, 'audio_tokens': 0, 'accepted_prediction_tokens': 0, 'rejected_prediction_tokens': 0}}, 'model_name': 'gpt-3.5-turbo', 'system_fingerprint': None, 'finish_reason': 'tool_calls', 'logprobs': None}, id='run-cd4ad369-8483-4f5e-9dcb-760fdc0a1b53-0', tool_calls=[{'name': 'tavily_search_results_json', 'args': {'query': 'weather in Los Angeles'}, 'id': 'call_6ED1ZQ8nrjYIOY14yqInLPZc'}])]}\n",
      "{'messages': [AIMessage(content='', additional_kwargs={'tool_calls': [{'id': 'call_6ED1ZQ8nrjYIOY14yqInLPZc', 'function': {'arguments': '{\"query\":\"weather in Los Angeles\"}', 'name': 'tavily_search_results_json'}, 'type': 'function'}]}, response_metadata={'token_usage': {'completion_tokens': 22, 'prompt_tokens': 152, 'total_tokens': 174, 'prompt_tokens_details': {'cached_tokens': 0, 'audio_tokens': 0}, 'completion_tokens_details': {'reasoning_tokens': 0, 'audio_tokens': 0, 'accepted_prediction_tokens': 0, 'rejected_prediction_tokens': 0}}, 'model_name': 'gpt-3.5-turbo', 'system_fingerprint': None, 'finish_reason': 'tool_calls', 'logprobs': None}, id='run-cd4ad369-8483-4f5e-9dcb-760fdc0a1b53-0', tool_calls=[{'name': 'tavily_search_results_json', 'args': {'query': 'weather in Los Angeles'}, 'id': 'call_6ED1ZQ8nrjYIOY14yqInLPZc'}])]}\n",
      "\n",
      " StateSnapshot(values={'messages': [HumanMessage(content='Whats the weather in LA?', id='f192e560-6e62-4770-ac34-383595ff5cee'), AIMessage(content='', additional_kwargs={'tool_calls': [{'function': {'arguments': '{\"query\":\"weather in Los Angeles\"}', 'name': 'tavily_search_results_json'}, 'id': 'call_6ED1ZQ8nrjYIOY14yqInLPZc', 'type': 'function'}]}, response_metadata={'finish_reason': 'tool_calls', 'logprobs': None, 'model_name': 'gpt-3.5-turbo', 'system_fingerprint': None, 'token_usage': {'completion_tokens': 22, 'completion_tokens_details': {'accepted_prediction_tokens': 0, 'audio_tokens': 0, 'reasoning_tokens': 0, 'rejected_prediction_tokens': 0}, 'prompt_tokens': 152, 'prompt_tokens_details': {'audio_tokens': 0, 'cached_tokens': 0}, 'total_tokens': 174}}, id='run-cd4ad369-8483-4f5e-9dcb-760fdc0a1b53-0', tool_calls=[{'name': 'tavily_search_results_json', 'args': {'query': 'weather in Los Angeles'}, 'id': 'call_6ED1ZQ8nrjYIOY14yqInLPZc'}])]}, next=('action',), config={'configurable': {'thread_id': '2', 'thread_ts': '1f0502c6-9ab9-68df-8001-809279c06180'}}, metadata={'source': 'loop', 'step': 1, 'writes': {'llm': {'messages': [AIMessage(content='', additional_kwargs={'tool_calls': [{'function': {'arguments': '{\"query\":\"weather in Los Angeles\"}', 'name': 'tavily_search_results_json'}, 'id': 'call_6ED1ZQ8nrjYIOY14yqInLPZc', 'type': 'function'}]}, response_metadata={'finish_reason': 'tool_calls', 'logprobs': None, 'model_name': 'gpt-3.5-turbo', 'system_fingerprint': None, 'token_usage': {'completion_tokens': 22, 'completion_tokens_details': {'accepted_prediction_tokens': 0, 'audio_tokens': 0, 'reasoning_tokens': 0, 'rejected_prediction_tokens': 0}, 'prompt_tokens': 152, 'prompt_tokens_details': {'audio_tokens': 0, 'cached_tokens': 0}, 'total_tokens': 174}}, id='run-cd4ad369-8483-4f5e-9dcb-760fdc0a1b53-0', tool_calls=[{'name': 'tavily_search_results_json', 'args': {'query': 'weather in Los Angeles'}, 'id': 'call_6ED1ZQ8nrjYIOY14yqInLPZc'}])]}}}, created_at='2025-06-23T12:20:13.012179+00:00', parent_config={'configurable': {'thread_id': '2', 'thread_ts': '1f0502c6-9a74-6f9a-8000-7191f5dced48'}}) \n",
      "\n",
      "proceed?y\n",
      "Calling: {'name': 'tavily_search_results_json', 'args': {'query': 'weather in Los Angeles'}, 'id': 'call_6ED1ZQ8nrjYIOY14yqInLPZc'}\n",
      "Back to the model!\n",
      "{'messages': [ToolMessage(content='[{\\'url\\': \\'https://www.weather25.com/north-america/usa/california/los-angeles?page=month&month=June\\', \\'content\\': \\'Los Angeles weather in June 2025 | Weather25.com Los Angeles Image 3: weather in United States Los Angeles weather in June 2025 The average weather in Los Angeles in June | June | **27°** / 17° | 0 | 30 | 0 | 1 mm | Perfect | Los Angeles in June | Temperatures in Los Angeles in June Weather in Los Angeles in June - FAQ The average temperature in Los Angeles in June is 17/27° C. On average, there are 0 rainy days in Los Angeles during June. The weather in Los Angeles in June is perfect. On average, there are 0 snowy days in Los Angeles in June. More about the weather in Los Angeles\\'}, {\\'url\\': \\'https://world-weather.info/forecast/usa/los_angeles/june-2025/\\', \\'content\\': \"Weather in Los Angeles in June 2025 (California) - Detailed Weather Forecast for a Month Weather in Los Angeles in June 2025 *   1 +77° +63° *   2 +72° +59° *   3 +63° +61° *   4 +70° +59° *   5 +68° +61° *   6 +68° +61° *   7 +68° +61° *   8 +70° +59° *   9 +73° +61° *   10 +73° +63° *   11 +72° +63° *   12 +72° +63° *   13 +73° +63° *   14 +73° +63° *   15 +79° +59° *   16 +81° +61° *   17 +81° +63° Weather in Washington, D.C.**+79°** Sacramento**+59°** Pasadena**+61°** Bellflower**+63°** Burbank**+63°** Compton**+63°** Grandview**+63°** Solemint**+64°** world\\'s temperature today Goulburn day+50°F night+23°F Rustaq day+118°F night+93°F Weather forecast on your site Install _Los Angeles_ +64° Temperature units\"}]', name='tavily_search_results_json', id='355727ad-346d-4bae-929c-fdeb94a3524b', tool_call_id='call_6ED1ZQ8nrjYIOY14yqInLPZc')]}\n",
      "{'messages': [HumanMessage(content='Whats the weather in LA?', id='f192e560-6e62-4770-ac34-383595ff5cee'), AIMessage(content='', additional_kwargs={'tool_calls': [{'function': {'arguments': '{\"query\":\"weather in Los Angeles\"}', 'name': 'tavily_search_results_json'}, 'id': 'call_6ED1ZQ8nrjYIOY14yqInLPZc', 'type': 'function'}]}, response_metadata={'finish_reason': 'tool_calls', 'logprobs': None, 'model_name': 'gpt-3.5-turbo', 'system_fingerprint': None, 'token_usage': {'completion_tokens': 22, 'completion_tokens_details': {'accepted_prediction_tokens': 0, 'audio_tokens': 0, 'reasoning_tokens': 0, 'rejected_prediction_tokens': 0}, 'prompt_tokens': 152, 'prompt_tokens_details': {'audio_tokens': 0, 'cached_tokens': 0}, 'total_tokens': 174}}, id='run-cd4ad369-8483-4f5e-9dcb-760fdc0a1b53-0', tool_calls=[{'name': 'tavily_search_results_json', 'args': {'query': 'weather in Los Angeles'}, 'id': 'call_6ED1ZQ8nrjYIOY14yqInLPZc'}]), ToolMessage(content='[{\\'url\\': \\'https://www.weather25.com/north-america/usa/california/los-angeles?page=month&month=June\\', \\'content\\': \\'Los Angeles weather in June 2025 | Weather25.com Los Angeles Image 3: weather in United States Los Angeles weather in June 2025 The average weather in Los Angeles in June | June | **27°** / 17° | 0 | 30 | 0 | 1 mm | Perfect | Los Angeles in June | Temperatures in Los Angeles in June Weather in Los Angeles in June - FAQ The average temperature in Los Angeles in June is 17/27° C. On average, there are 0 rainy days in Los Angeles during June. The weather in Los Angeles in June is perfect. On average, there are 0 snowy days in Los Angeles in June. More about the weather in Los Angeles\\'}, {\\'url\\': \\'https://world-weather.info/forecast/usa/los_angeles/june-2025/\\', \\'content\\': \"Weather in Los Angeles in June 2025 (California) - Detailed Weather Forecast for a Month Weather in Los Angeles in June 2025 *   1 +77° +63° *   2 +72° +59° *   3 +63° +61° *   4 +70° +59° *   5 +68° +61° *   6 +68° +61° *   7 +68° +61° *   8 +70° +59° *   9 +73° +61° *   10 +73° +63° *   11 +72° +63° *   12 +72° +63° *   13 +73° +63° *   14 +73° +63° *   15 +79° +59° *   16 +81° +61° *   17 +81° +63° Weather in Washington, D.C.**+79°** Sacramento**+59°** Pasadena**+61°** Bellflower**+63°** Burbank**+63°** Compton**+63°** Grandview**+63°** Solemint**+64°** world\\'s temperature today Goulburn day+50°F night+23°F Rustaq day+118°F night+93°F Weather forecast on your site Install _Los Angeles_ +64° Temperature units\"}]', name='tavily_search_results_json', id='355727ad-346d-4bae-929c-fdeb94a3524b', tool_call_id='call_6ED1ZQ8nrjYIOY14yqInLPZc'), AIMessage(content='The weather in Los Angeles in June 2025 is expected to have an average temperature of 17/27°C with perfect conditions. There are no rainy or snowy days on average in June in Los Angeles.', response_metadata={'token_usage': {'completion_tokens': 43, 'prompt_tokens': 699, 'total_tokens': 742, 'prompt_tokens_details': {'cached_tokens': 0, 'audio_tokens': 0}, 'completion_tokens_details': {'reasoning_tokens': 0, 'audio_tokens': 0, 'accepted_prediction_tokens': 0, 'rejected_prediction_tokens': 0}}, 'model_name': 'gpt-3.5-turbo', 'system_fingerprint': None, 'finish_reason': 'stop', 'logprobs': None}, id='run-ab5e6658-a7aa-48c3-a47b-43697eb8ee0e-0')]}\n",
      "{'messages': [AIMessage(content='The weather in Los Angeles in June 2025 is expected to have an average temperature of 17/27°C with perfect conditions. There are no rainy or snowy days on average in June in Los Angeles.', response_metadata={'token_usage': {'completion_tokens': 43, 'prompt_tokens': 699, 'total_tokens': 742, 'prompt_tokens_details': {'cached_tokens': 0, 'audio_tokens': 0}, 'completion_tokens_details': {'reasoning_tokens': 0, 'audio_tokens': 0, 'accepted_prediction_tokens': 0, 'rejected_prediction_tokens': 0}}, 'model_name': 'gpt-3.5-turbo', 'system_fingerprint': None, 'finish_reason': 'stop', 'logprobs': None}, id='run-ab5e6658-a7aa-48c3-a47b-43697eb8ee0e-0')]}\n"
     ]
    }
   ],
   "source": [
    "messages = [HumanMessage(\"Whats the weather in LA?\")]\n",
    "thread = {\"configurable\": {\"thread_id\": \"2\"}}\n",
    "for event in abot.graph.stream({\"messages\": messages}, thread):\n",
    "    for v in event.values():\n",
    "        print(v)\n",
    "while abot.graph.get_state(thread).next:\n",
    "    print(\"\\n\", abot.graph.get_state(thread),\"\\n\")\n",
    "    _input = input(\"proceed?\")\n",
    "    if _input != \"y\":\n",
    "        print(\"aborting\")\n",
    "        break\n",
    "    for event in abot.graph.stream(None, thread):\n",
    "        for v in event.values():\n",
    "            print(v)"
   ]
  },
  {
   "cell_type": "markdown",
   "id": "7bbe5689-54ab-49ca-9055-6e5216abd523",
   "metadata": {},
   "source": [
    "## Modify State\n",
    "Run until the interrupt and then modify the state."
   ]
  },
  {
   "cell_type": "code",
   "execution_count": 30,
   "id": "98f303b1-a4d0-408c-8cc0-515ff980717f",
   "metadata": {
    "height": 98
   },
   "outputs": [
    {
     "name": "stdout",
     "output_type": "stream",
     "text": [
      "{'messages': [HumanMessage(content='Whats the weather in LA?', id='349211a9-1b4c-42c1-97e4-410c5bc6eb2c'), AIMessage(content='', additional_kwargs={'tool_calls': [{'id': 'call_6ED1ZQ8nrjYIOY14yqInLPZc', 'function': {'arguments': '{\"query\":\"weather in Los Angeles\"}', 'name': 'tavily_search_results_json'}, 'type': 'function'}]}, response_metadata={'token_usage': {'completion_tokens': 22, 'prompt_tokens': 152, 'total_tokens': 174, 'prompt_tokens_details': {'cached_tokens': 0, 'audio_tokens': 0}, 'completion_tokens_details': {'reasoning_tokens': 0, 'audio_tokens': 0, 'accepted_prediction_tokens': 0, 'rejected_prediction_tokens': 0}}, 'model_name': 'gpt-3.5-turbo', 'system_fingerprint': None, 'finish_reason': 'tool_calls', 'logprobs': None}, id='run-668df989-afbd-4b75-9565-ca503fd37656-0', tool_calls=[{'name': 'tavily_search_results_json', 'args': {'query': 'weather in Los Angeles'}, 'id': 'call_6ED1ZQ8nrjYIOY14yqInLPZc'}])]}\n",
      "{'messages': [AIMessage(content='', additional_kwargs={'tool_calls': [{'id': 'call_6ED1ZQ8nrjYIOY14yqInLPZc', 'function': {'arguments': '{\"query\":\"weather in Los Angeles\"}', 'name': 'tavily_search_results_json'}, 'type': 'function'}]}, response_metadata={'token_usage': {'completion_tokens': 22, 'prompt_tokens': 152, 'total_tokens': 174, 'prompt_tokens_details': {'cached_tokens': 0, 'audio_tokens': 0}, 'completion_tokens_details': {'reasoning_tokens': 0, 'audio_tokens': 0, 'accepted_prediction_tokens': 0, 'rejected_prediction_tokens': 0}}, 'model_name': 'gpt-3.5-turbo', 'system_fingerprint': None, 'finish_reason': 'tool_calls', 'logprobs': None}, id='run-668df989-afbd-4b75-9565-ca503fd37656-0', tool_calls=[{'name': 'tavily_search_results_json', 'args': {'query': 'weather in Los Angeles'}, 'id': 'call_6ED1ZQ8nrjYIOY14yqInLPZc'}])]}\n"
     ]
    }
   ],
   "source": [
    "messages = [HumanMessage(\"Whats the weather in LA?\")]\n",
    "thread = {\"configurable\": {\"thread_id\": \"3\"}}\n",
    "for event in abot.graph.stream({\"messages\": messages}, thread):\n",
    "    for v in event.values():\n",
    "        print(v)"
   ]
  },
  {
   "cell_type": "code",
   "execution_count": 31,
   "id": "bf4dcb93-6298-4cfd-b3ce-61dfac7fb35f",
   "metadata": {
    "height": 30
   },
   "outputs": [
    {
     "data": {
      "text/plain": [
       "StateSnapshot(values={'messages': [HumanMessage(content='Whats the weather in LA?', id='349211a9-1b4c-42c1-97e4-410c5bc6eb2c'), AIMessage(content='', additional_kwargs={'tool_calls': [{'function': {'arguments': '{\"query\":\"weather in Los Angeles\"}', 'name': 'tavily_search_results_json'}, 'id': 'call_6ED1ZQ8nrjYIOY14yqInLPZc', 'type': 'function'}]}, response_metadata={'finish_reason': 'tool_calls', 'logprobs': None, 'model_name': 'gpt-3.5-turbo', 'system_fingerprint': None, 'token_usage': {'completion_tokens': 22, 'completion_tokens_details': {'accepted_prediction_tokens': 0, 'audio_tokens': 0, 'reasoning_tokens': 0, 'rejected_prediction_tokens': 0}, 'prompt_tokens': 152, 'prompt_tokens_details': {'audio_tokens': 0, 'cached_tokens': 0}, 'total_tokens': 174}}, id='run-668df989-afbd-4b75-9565-ca503fd37656-0', tool_calls=[{'name': 'tavily_search_results_json', 'args': {'query': 'weather in Los Angeles'}, 'id': 'call_6ED1ZQ8nrjYIOY14yqInLPZc'}])]}, next=('action',), config={'configurable': {'thread_id': '3', 'thread_ts': '1f0502cd-d0c0-6452-8001-184730358697'}}, metadata={'source': 'loop', 'step': 1, 'writes': {'llm': {'messages': [AIMessage(content='', additional_kwargs={'tool_calls': [{'function': {'arguments': '{\"query\":\"weather in Los Angeles\"}', 'name': 'tavily_search_results_json'}, 'id': 'call_6ED1ZQ8nrjYIOY14yqInLPZc', 'type': 'function'}]}, response_metadata={'finish_reason': 'tool_calls', 'logprobs': None, 'model_name': 'gpt-3.5-turbo', 'system_fingerprint': None, 'token_usage': {'completion_tokens': 22, 'completion_tokens_details': {'accepted_prediction_tokens': 0, 'audio_tokens': 0, 'reasoning_tokens': 0, 'rejected_prediction_tokens': 0}, 'prompt_tokens': 152, 'prompt_tokens_details': {'audio_tokens': 0, 'cached_tokens': 0}, 'total_tokens': 174}}, id='run-668df989-afbd-4b75-9565-ca503fd37656-0', tool_calls=[{'name': 'tavily_search_results_json', 'args': {'query': 'weather in Los Angeles'}, 'id': 'call_6ED1ZQ8nrjYIOY14yqInLPZc'}])]}}}, created_at='2025-06-23T12:23:26.582054+00:00', parent_config={'configurable': {'thread_id': '3', 'thread_ts': '1f0502cd-d083-61aa-8000-591386250f12'}})"
      ]
     },
     "execution_count": 31,
     "metadata": {},
     "output_type": "execute_result"
    }
   ],
   "source": [
    "abot.graph.get_state(thread)"
   ]
  },
  {
   "cell_type": "code",
   "execution_count": 32,
   "id": "932883a4-c722-42bb-aec0-b4f41c5c81a4",
   "metadata": {
    "height": 30
   },
   "outputs": [],
   "source": [
    "current_values = abot.graph.get_state(thread)"
   ]
  },
  {
   "cell_type": "code",
   "execution_count": 33,
   "id": "ff362f49-dcf1-4ea1-a86c-e516e9ab897d",
   "metadata": {
    "height": 30
   },
   "outputs": [
    {
     "data": {
      "text/plain": [
       "AIMessage(content='', additional_kwargs={'tool_calls': [{'function': {'arguments': '{\"query\":\"weather in Los Angeles\"}', 'name': 'tavily_search_results_json'}, 'id': 'call_6ED1ZQ8nrjYIOY14yqInLPZc', 'type': 'function'}]}, response_metadata={'finish_reason': 'tool_calls', 'logprobs': None, 'model_name': 'gpt-3.5-turbo', 'system_fingerprint': None, 'token_usage': {'completion_tokens': 22, 'completion_tokens_details': {'accepted_prediction_tokens': 0, 'audio_tokens': 0, 'reasoning_tokens': 0, 'rejected_prediction_tokens': 0}, 'prompt_tokens': 152, 'prompt_tokens_details': {'audio_tokens': 0, 'cached_tokens': 0}, 'total_tokens': 174}}, id='run-668df989-afbd-4b75-9565-ca503fd37656-0', tool_calls=[{'name': 'tavily_search_results_json', 'args': {'query': 'weather in Los Angeles'}, 'id': 'call_6ED1ZQ8nrjYIOY14yqInLPZc'}])"
      ]
     },
     "execution_count": 33,
     "metadata": {},
     "output_type": "execute_result"
    }
   ],
   "source": [
    "current_values.values['messages'][-1]"
   ]
  },
  {
   "cell_type": "code",
   "execution_count": 34,
   "id": "a7e15a20-83d7-434c-8551-bce8dcc32be0",
   "metadata": {
    "height": 30
   },
   "outputs": [
    {
     "data": {
      "text/plain": [
       "[{'name': 'tavily_search_results_json',\n",
       "  'args': {'query': 'weather in Los Angeles'},\n",
       "  'id': 'call_6ED1ZQ8nrjYIOY14yqInLPZc'}]"
      ]
     },
     "execution_count": 34,
     "metadata": {},
     "output_type": "execute_result"
    }
   ],
   "source": [
    "current_values.values['messages'][-1].tool_calls"
   ]
  },
  {
   "cell_type": "code",
   "execution_count": 35,
   "id": "54ab2c74-f32e-490c-a85d-932d11444210",
   "metadata": {
    "height": 115
   },
   "outputs": [],
   "source": [
    "_id = current_values.values['messages'][-1].tool_calls[0]['id']\n",
    "current_values.values['messages'][-1].tool_calls = [\n",
    "    {'name': 'tavily_search_results_json',\n",
    "  'args': {'query': 'current weather in Louisiana'},\n",
    "  'id': _id}\n",
    "]"
   ]
  },
  {
   "cell_type": "code",
   "execution_count": 36,
   "id": "a833d3ce-bd31-4319-811d-decff226b970",
   "metadata": {
    "height": 30
   },
   "outputs": [
    {
     "name": "stdout",
     "output_type": "stream",
     "text": [
      "{'messages': [HumanMessage(content='Whats the weather in LA?', id='349211a9-1b4c-42c1-97e4-410c5bc6eb2c'), AIMessage(content='', additional_kwargs={'tool_calls': [{'function': {'arguments': '{\"query\":\"weather in Los Angeles\"}', 'name': 'tavily_search_results_json'}, 'id': 'call_6ED1ZQ8nrjYIOY14yqInLPZc', 'type': 'function'}]}, response_metadata={'finish_reason': 'tool_calls', 'logprobs': None, 'model_name': 'gpt-3.5-turbo', 'system_fingerprint': None, 'token_usage': {'completion_tokens': 22, 'completion_tokens_details': {'accepted_prediction_tokens': 0, 'audio_tokens': 0, 'reasoning_tokens': 0, 'rejected_prediction_tokens': 0}, 'prompt_tokens': 152, 'prompt_tokens_details': {'audio_tokens': 0, 'cached_tokens': 0}, 'total_tokens': 174}}, id='run-668df989-afbd-4b75-9565-ca503fd37656-0', tool_calls=[{'name': 'tavily_search_results_json', 'args': {'query': 'current weather in Louisiana'}, 'id': 'call_6ED1ZQ8nrjYIOY14yqInLPZc'}])]}\n"
     ]
    },
    {
     "data": {
      "text/plain": [
       "{'configurable': {'thread_id': '3',\n",
       "  'thread_ts': '1f0502d4-5aaf-63ce-8002-9176e960414d'}}"
      ]
     },
     "execution_count": 36,
     "metadata": {},
     "output_type": "execute_result"
    }
   ],
   "source": [
    "abot.graph.update_state(thread, current_values.values)"
   ]
  },
  {
   "cell_type": "code",
   "execution_count": 37,
   "id": "76e93cce-6eab-4c7c-ac64-e9993fdb30d6",
   "metadata": {
    "height": 30
   },
   "outputs": [
    {
     "data": {
      "text/plain": [
       "StateSnapshot(values={'messages': [HumanMessage(content='Whats the weather in LA?', id='349211a9-1b4c-42c1-97e4-410c5bc6eb2c'), AIMessage(content='', additional_kwargs={'tool_calls': [{'function': {'arguments': '{\"query\":\"weather in Los Angeles\"}', 'name': 'tavily_search_results_json'}, 'id': 'call_6ED1ZQ8nrjYIOY14yqInLPZc', 'type': 'function'}]}, response_metadata={'finish_reason': 'tool_calls', 'logprobs': None, 'model_name': 'gpt-3.5-turbo', 'system_fingerprint': None, 'token_usage': {'completion_tokens': 22, 'completion_tokens_details': {'accepted_prediction_tokens': 0, 'audio_tokens': 0, 'reasoning_tokens': 0, 'rejected_prediction_tokens': 0}, 'prompt_tokens': 152, 'prompt_tokens_details': {'audio_tokens': 0, 'cached_tokens': 0}, 'total_tokens': 174}}, id='run-668df989-afbd-4b75-9565-ca503fd37656-0', tool_calls=[{'name': 'tavily_search_results_json', 'args': {'query': 'current weather in Louisiana'}, 'id': 'call_6ED1ZQ8nrjYIOY14yqInLPZc'}])]}, next=('action',), config={'configurable': {'thread_id': '3', 'thread_ts': '1f0502d4-5aaf-63ce-8002-9176e960414d'}}, metadata={'source': 'update', 'step': 2, 'writes': {'llm': {'messages': [HumanMessage(content='Whats the weather in LA?', id='349211a9-1b4c-42c1-97e4-410c5bc6eb2c'), AIMessage(content='', additional_kwargs={'tool_calls': [{'function': {'arguments': '{\"query\":\"weather in Los Angeles\"}', 'name': 'tavily_search_results_json'}, 'id': 'call_6ED1ZQ8nrjYIOY14yqInLPZc', 'type': 'function'}]}, response_metadata={'finish_reason': 'tool_calls', 'logprobs': None, 'model_name': 'gpt-3.5-turbo', 'system_fingerprint': None, 'token_usage': {'completion_tokens': 22, 'completion_tokens_details': {'accepted_prediction_tokens': 0, 'audio_tokens': 0, 'reasoning_tokens': 0, 'rejected_prediction_tokens': 0}, 'prompt_tokens': 152, 'prompt_tokens_details': {'audio_tokens': 0, 'cached_tokens': 0}, 'total_tokens': 174}}, id='run-668df989-afbd-4b75-9565-ca503fd37656-0', tool_calls=[{'name': 'tavily_search_results_json', 'args': {'query': 'current weather in Louisiana'}, 'id': 'call_6ED1ZQ8nrjYIOY14yqInLPZc'}])]}}}, created_at='2025-06-23T12:26:22.106706+00:00', parent_config={'configurable': {'thread_id': '3', 'thread_ts': '1f0502cd-d0c0-6452-8001-184730358697'}})"
      ]
     },
     "execution_count": 37,
     "metadata": {},
     "output_type": "execute_result"
    }
   ],
   "source": [
    "abot.graph.get_state(thread)"
   ]
  },
  {
   "cell_type": "code",
   "execution_count": 38,
   "id": "fd2d0990-a932-423f-9ff3-5cada58c5f32",
   "metadata": {
    "height": 64
   },
   "outputs": [
    {
     "name": "stdout",
     "output_type": "stream",
     "text": [
      "Calling: {'name': 'tavily_search_results_json', 'args': {'query': 'current weather in Louisiana'}, 'id': 'call_6ED1ZQ8nrjYIOY14yqInLPZc'}\n",
      "Back to the model!\n",
      "{'messages': [ToolMessage(content='[{\\'url\\': \\'https://www.weather25.com/north-america/usa/louisiana?page=month&month=June\\', \\'content\\': \\'| [22 Sunny 33° /24°](https://www.weather25.com/north-america/usa/louisiana?page=past-weather#day=22&month=6 \"Weather in 22 june 2025\") | [23 Thundery outbreaks possible 33° /25°](https://www.weather25.com/north-america/usa/louisiana?page=today \"Weather in 23 june 2025\") | [24 Mist 34° /25°](https://www.weather25.com/north-america/usa/louisiana?page=tomorrow \"Weather in 24 june 2025\") | [25 Mist 36° /26°](https://www.weather25.com/north-america/usa/louisiana?page=day#date=2025-06-25 \"Weather in [...] ![Partly cloudy]( \"Partly cloudy\")\\\\n![Thundery outbreaks possible]( \"Thundery outbreaks possible\")\\\\n![Partly cloudy]( \"Partly cloudy\")\\\\n![Partly cloudy]( \"Partly cloudy\")\\\\n![Partly cloudy]( \"Partly cloudy\")\\\\n![Partly cloudy]( \"Partly cloudy\")\\\\n![Partly cloudy]( \"Partly cloudy\")\\\\n![Moderate or heavy rain shower]( \"Moderate or heavy rain shower\")\\\\n![Sunny]( \"Sunny\")\\\\n![Light rain shower]( \"Light rain shower\")\\\\n![Light rain shower]( \"Light rain shower\")\\\\n![Sunny]( \"Sunny\") [...] ![Light rain shower]( \"Light rain shower\")\\\\n![Sunny]( \"Sunny\")\\\\n![Light rain shower]( \"Light rain shower\")\\\\n![Partly cloudy]( \"Partly cloudy\")\\\\n![Moderate or heavy rain shower]( \"Moderate or heavy rain shower\")\\\\n![Moderate or heavy rain shower]( \"Moderate or heavy rain shower\")\\\\n![Patchy rain possible]( \"Patchy rain possible\")\\\\n![Moderate or heavy rain shower]( \"Moderate or heavy rain shower\")\\\\n![Partly cloudy]( \"Partly cloudy\")\\\\n![Patchy rain possible]( \"Patchy rain possible\")\\'}, {\\'url\\': \\'https://www.easeweather.com/north-america/united-states/louisiana/june\\', \\'content\\': \\'Jun. 23. Moderate rain at times. 91° /73°, 0.04 in, 8 ; Jun. 24. Moderate or heavy rain shower. 93° /75°, 0.11 in, 8.\\'}]', name='tavily_search_results_json', id='486be77c-eaa1-47ff-9a62-a0f110e67701', tool_call_id='call_6ED1ZQ8nrjYIOY14yqInLPZc')]}\n",
      "{'messages': [HumanMessage(content='Whats the weather in LA?', id='349211a9-1b4c-42c1-97e4-410c5bc6eb2c'), AIMessage(content='', additional_kwargs={'tool_calls': [{'function': {'arguments': '{\"query\":\"weather in Los Angeles\"}', 'name': 'tavily_search_results_json'}, 'id': 'call_6ED1ZQ8nrjYIOY14yqInLPZc', 'type': 'function'}]}, response_metadata={'finish_reason': 'tool_calls', 'logprobs': None, 'model_name': 'gpt-3.5-turbo', 'system_fingerprint': None, 'token_usage': {'completion_tokens': 22, 'completion_tokens_details': {'accepted_prediction_tokens': 0, 'audio_tokens': 0, 'reasoning_tokens': 0, 'rejected_prediction_tokens': 0}, 'prompt_tokens': 152, 'prompt_tokens_details': {'audio_tokens': 0, 'cached_tokens': 0}, 'total_tokens': 174}}, id='run-668df989-afbd-4b75-9565-ca503fd37656-0', tool_calls=[{'name': 'tavily_search_results_json', 'args': {'query': 'current weather in Louisiana'}, 'id': 'call_6ED1ZQ8nrjYIOY14yqInLPZc'}]), ToolMessage(content='[{\\'url\\': \\'https://www.weather25.com/north-america/usa/louisiana?page=month&month=June\\', \\'content\\': \\'| [22 Sunny 33° /24°](https://www.weather25.com/north-america/usa/louisiana?page=past-weather#day=22&month=6 \"Weather in 22 june 2025\") | [23 Thundery outbreaks possible 33° /25°](https://www.weather25.com/north-america/usa/louisiana?page=today \"Weather in 23 june 2025\") | [24 Mist 34° /25°](https://www.weather25.com/north-america/usa/louisiana?page=tomorrow \"Weather in 24 june 2025\") | [25 Mist 36° /26°](https://www.weather25.com/north-america/usa/louisiana?page=day#date=2025-06-25 \"Weather in [...] ![Partly cloudy]( \"Partly cloudy\")\\\\n![Thundery outbreaks possible]( \"Thundery outbreaks possible\")\\\\n![Partly cloudy]( \"Partly cloudy\")\\\\n![Partly cloudy]( \"Partly cloudy\")\\\\n![Partly cloudy]( \"Partly cloudy\")\\\\n![Partly cloudy]( \"Partly cloudy\")\\\\n![Partly cloudy]( \"Partly cloudy\")\\\\n![Moderate or heavy rain shower]( \"Moderate or heavy rain shower\")\\\\n![Sunny]( \"Sunny\")\\\\n![Light rain shower]( \"Light rain shower\")\\\\n![Light rain shower]( \"Light rain shower\")\\\\n![Sunny]( \"Sunny\") [...] ![Light rain shower]( \"Light rain shower\")\\\\n![Sunny]( \"Sunny\")\\\\n![Light rain shower]( \"Light rain shower\")\\\\n![Partly cloudy]( \"Partly cloudy\")\\\\n![Moderate or heavy rain shower]( \"Moderate or heavy rain shower\")\\\\n![Moderate or heavy rain shower]( \"Moderate or heavy rain shower\")\\\\n![Patchy rain possible]( \"Patchy rain possible\")\\\\n![Moderate or heavy rain shower]( \"Moderate or heavy rain shower\")\\\\n![Partly cloudy]( \"Partly cloudy\")\\\\n![Patchy rain possible]( \"Patchy rain possible\")\\'}, {\\'url\\': \\'https://www.easeweather.com/north-america/united-states/louisiana/june\\', \\'content\\': \\'Jun. 23. Moderate rain at times. 91° /73°, 0.04 in, 8 ; Jun. 24. Moderate or heavy rain shower. 93° /75°, 0.11 in, 8.\\'}]', name='tavily_search_results_json', id='486be77c-eaa1-47ff-9a62-a0f110e67701', tool_call_id='call_6ED1ZQ8nrjYIOY14yqInLPZc'), AIMessage(content='I found some information about the weather in Louisiana:\\n\\n- Today, there are thundery outbreaks possible with a temperature of 33°C / 25°C.\\n- Tomorrow, there will be mist with a temperature of 34°C / 25°C.\\n- The day after tomorrow, there will be mist with a temperature of 36°C / 26°C.\\n\\nIf you meant Los Angeles (LA), I can look up the weather for Los Angeles specifically. Would you like me to do that?', response_metadata={'token_usage': {'completion_tokens': 101, 'prompt_tokens': 770, 'total_tokens': 871, 'prompt_tokens_details': {'cached_tokens': 0, 'audio_tokens': 0}, 'completion_tokens_details': {'reasoning_tokens': 0, 'audio_tokens': 0, 'accepted_prediction_tokens': 0, 'rejected_prediction_tokens': 0}}, 'model_name': 'gpt-3.5-turbo', 'system_fingerprint': None, 'finish_reason': 'stop', 'logprobs': None}, id='run-2bdc9b43-5d77-4ef8-999c-27902d947f5a-0')]}\n",
      "{'messages': [AIMessage(content='I found some information about the weather in Louisiana:\\n\\n- Today, there are thundery outbreaks possible with a temperature of 33°C / 25°C.\\n- Tomorrow, there will be mist with a temperature of 34°C / 25°C.\\n- The day after tomorrow, there will be mist with a temperature of 36°C / 26°C.\\n\\nIf you meant Los Angeles (LA), I can look up the weather for Los Angeles specifically. Would you like me to do that?', response_metadata={'token_usage': {'completion_tokens': 101, 'prompt_tokens': 770, 'total_tokens': 871, 'prompt_tokens_details': {'cached_tokens': 0, 'audio_tokens': 0}, 'completion_tokens_details': {'reasoning_tokens': 0, 'audio_tokens': 0, 'accepted_prediction_tokens': 0, 'rejected_prediction_tokens': 0}}, 'model_name': 'gpt-3.5-turbo', 'system_fingerprint': None, 'finish_reason': 'stop', 'logprobs': None}, id='run-2bdc9b43-5d77-4ef8-999c-27902d947f5a-0')]}\n"
     ]
    }
   ],
   "source": [
    "for event in abot.graph.stream(None, thread):\n",
    "    for v in event.values():\n",
    "        print(v)"
   ]
  },
  {
   "cell_type": "markdown",
   "id": "e75b870b-e0df-46f1-b29b-fb151ebcbcc3",
   "metadata": {},
   "source": [
    "## Time Travel"
   ]
  },
  {
   "cell_type": "code",
   "execution_count": 39,
   "id": "27cde654-64e2-48bc-80a9-0ed668ccb7dc",
   "metadata": {
    "height": 98
   },
   "outputs": [
    {
     "name": "stdout",
     "output_type": "stream",
     "text": [
      "StateSnapshot(values={'messages': [HumanMessage(content='Whats the weather in LA?', id='349211a9-1b4c-42c1-97e4-410c5bc6eb2c'), AIMessage(content='', additional_kwargs={'tool_calls': [{'function': {'arguments': '{\"query\":\"weather in Los Angeles\"}', 'name': 'tavily_search_results_json'}, 'id': 'call_6ED1ZQ8nrjYIOY14yqInLPZc', 'type': 'function'}]}, response_metadata={'finish_reason': 'tool_calls', 'logprobs': None, 'model_name': 'gpt-3.5-turbo', 'system_fingerprint': None, 'token_usage': {'completion_tokens': 22, 'completion_tokens_details': {'accepted_prediction_tokens': 0, 'audio_tokens': 0, 'reasoning_tokens': 0, 'rejected_prediction_tokens': 0}, 'prompt_tokens': 152, 'prompt_tokens_details': {'audio_tokens': 0, 'cached_tokens': 0}, 'total_tokens': 174}}, id='run-668df989-afbd-4b75-9565-ca503fd37656-0', tool_calls=[{'name': 'tavily_search_results_json', 'args': {'query': 'current weather in Louisiana'}, 'id': 'call_6ED1ZQ8nrjYIOY14yqInLPZc'}]), ToolMessage(content='[{\\'url\\': \\'https://www.weather25.com/north-america/usa/louisiana?page=month&month=June\\', \\'content\\': \\'| [22 Sunny 33° /24°](https://www.weather25.com/north-america/usa/louisiana?page=past-weather#day=22&month=6 \"Weather in 22 june 2025\") | [23 Thundery outbreaks possible 33° /25°](https://www.weather25.com/north-america/usa/louisiana?page=today \"Weather in 23 june 2025\") | [24 Mist 34° /25°](https://www.weather25.com/north-america/usa/louisiana?page=tomorrow \"Weather in 24 june 2025\") | [25 Mist 36° /26°](https://www.weather25.com/north-america/usa/louisiana?page=day#date=2025-06-25 \"Weather in [...] ![Partly cloudy]( \"Partly cloudy\")\\\\n![Thundery outbreaks possible]( \"Thundery outbreaks possible\")\\\\n![Partly cloudy]( \"Partly cloudy\")\\\\n![Partly cloudy]( \"Partly cloudy\")\\\\n![Partly cloudy]( \"Partly cloudy\")\\\\n![Partly cloudy]( \"Partly cloudy\")\\\\n![Partly cloudy]( \"Partly cloudy\")\\\\n![Moderate or heavy rain shower]( \"Moderate or heavy rain shower\")\\\\n![Sunny]( \"Sunny\")\\\\n![Light rain shower]( \"Light rain shower\")\\\\n![Light rain shower]( \"Light rain shower\")\\\\n![Sunny]( \"Sunny\") [...] ![Light rain shower]( \"Light rain shower\")\\\\n![Sunny]( \"Sunny\")\\\\n![Light rain shower]( \"Light rain shower\")\\\\n![Partly cloudy]( \"Partly cloudy\")\\\\n![Moderate or heavy rain shower]( \"Moderate or heavy rain shower\")\\\\n![Moderate or heavy rain shower]( \"Moderate or heavy rain shower\")\\\\n![Patchy rain possible]( \"Patchy rain possible\")\\\\n![Moderate or heavy rain shower]( \"Moderate or heavy rain shower\")\\\\n![Partly cloudy]( \"Partly cloudy\")\\\\n![Patchy rain possible]( \"Patchy rain possible\")\\'}, {\\'url\\': \\'https://www.easeweather.com/north-america/united-states/louisiana/june\\', \\'content\\': \\'Jun. 23. Moderate rain at times. 91° /73°, 0.04 in, 8 ; Jun. 24. Moderate or heavy rain shower. 93° /75°, 0.11 in, 8.\\'}]', name='tavily_search_results_json', id='486be77c-eaa1-47ff-9a62-a0f110e67701', tool_call_id='call_6ED1ZQ8nrjYIOY14yqInLPZc'), AIMessage(content='I found some information about the weather in Louisiana:\\n\\n- Today, there are thundery outbreaks possible with a temperature of 33°C / 25°C.\\n- Tomorrow, there will be mist with a temperature of 34°C / 25°C.\\n- The day after tomorrow, there will be mist with a temperature of 36°C / 26°C.\\n\\nIf you meant Los Angeles (LA), I can look up the weather for Los Angeles specifically. Would you like me to do that?', response_metadata={'finish_reason': 'stop', 'logprobs': None, 'model_name': 'gpt-3.5-turbo', 'system_fingerprint': None, 'token_usage': {'completion_tokens': 101, 'completion_tokens_details': {'accepted_prediction_tokens': 0, 'audio_tokens': 0, 'reasoning_tokens': 0, 'rejected_prediction_tokens': 0}, 'prompt_tokens': 770, 'prompt_tokens_details': {'audio_tokens': 0, 'cached_tokens': 0}, 'total_tokens': 871}}, id='run-2bdc9b43-5d77-4ef8-999c-27902d947f5a-0')]}, next=(), config={'configurable': {'thread_id': '3', 'thread_ts': '1f0502d5-95b8-6428-8004-e8d0781d4353'}}, metadata={'source': 'loop', 'step': 4, 'writes': {'llm': {'messages': [AIMessage(content='I found some information about the weather in Louisiana:\\n\\n- Today, there are thundery outbreaks possible with a temperature of 33°C / 25°C.\\n- Tomorrow, there will be mist with a temperature of 34°C / 25°C.\\n- The day after tomorrow, there will be mist with a temperature of 36°C / 26°C.\\n\\nIf you meant Los Angeles (LA), I can look up the weather for Los Angeles specifically. Would you like me to do that?', response_metadata={'finish_reason': 'stop', 'logprobs': None, 'model_name': 'gpt-3.5-turbo', 'system_fingerprint': None, 'token_usage': {'completion_tokens': 101, 'completion_tokens_details': {'accepted_prediction_tokens': 0, 'audio_tokens': 0, 'reasoning_tokens': 0, 'rejected_prediction_tokens': 0}, 'prompt_tokens': 770, 'prompt_tokens_details': {'audio_tokens': 0, 'cached_tokens': 0}, 'total_tokens': 871}}, id='run-2bdc9b43-5d77-4ef8-999c-27902d947f5a-0')]}}}, created_at='2025-06-23T12:26:55.140539+00:00', parent_config={'configurable': {'thread_id': '3', 'thread_ts': '1f0502d5-957d-6922-8003-f7ca1c9c5449'}})\n",
      "--\n",
      "StateSnapshot(values={'messages': [HumanMessage(content='Whats the weather in LA?', id='349211a9-1b4c-42c1-97e4-410c5bc6eb2c'), AIMessage(content='', additional_kwargs={'tool_calls': [{'function': {'arguments': '{\"query\":\"weather in Los Angeles\"}', 'name': 'tavily_search_results_json'}, 'id': 'call_6ED1ZQ8nrjYIOY14yqInLPZc', 'type': 'function'}]}, response_metadata={'finish_reason': 'tool_calls', 'logprobs': None, 'model_name': 'gpt-3.5-turbo', 'system_fingerprint': None, 'token_usage': {'completion_tokens': 22, 'completion_tokens_details': {'accepted_prediction_tokens': 0, 'audio_tokens': 0, 'reasoning_tokens': 0, 'rejected_prediction_tokens': 0}, 'prompt_tokens': 152, 'prompt_tokens_details': {'audio_tokens': 0, 'cached_tokens': 0}, 'total_tokens': 174}}, id='run-668df989-afbd-4b75-9565-ca503fd37656-0', tool_calls=[{'name': 'tavily_search_results_json', 'args': {'query': 'current weather in Louisiana'}, 'id': 'call_6ED1ZQ8nrjYIOY14yqInLPZc'}]), ToolMessage(content='[{\\'url\\': \\'https://www.weather25.com/north-america/usa/louisiana?page=month&month=June\\', \\'content\\': \\'| [22 Sunny 33° /24°](https://www.weather25.com/north-america/usa/louisiana?page=past-weather#day=22&month=6 \"Weather in 22 june 2025\") | [23 Thundery outbreaks possible 33° /25°](https://www.weather25.com/north-america/usa/louisiana?page=today \"Weather in 23 june 2025\") | [24 Mist 34° /25°](https://www.weather25.com/north-america/usa/louisiana?page=tomorrow \"Weather in 24 june 2025\") | [25 Mist 36° /26°](https://www.weather25.com/north-america/usa/louisiana?page=day#date=2025-06-25 \"Weather in [...] ![Partly cloudy]( \"Partly cloudy\")\\\\n![Thundery outbreaks possible]( \"Thundery outbreaks possible\")\\\\n![Partly cloudy]( \"Partly cloudy\")\\\\n![Partly cloudy]( \"Partly cloudy\")\\\\n![Partly cloudy]( \"Partly cloudy\")\\\\n![Partly cloudy]( \"Partly cloudy\")\\\\n![Partly cloudy]( \"Partly cloudy\")\\\\n![Moderate or heavy rain shower]( \"Moderate or heavy rain shower\")\\\\n![Sunny]( \"Sunny\")\\\\n![Light rain shower]( \"Light rain shower\")\\\\n![Light rain shower]( \"Light rain shower\")\\\\n![Sunny]( \"Sunny\") [...] ![Light rain shower]( \"Light rain shower\")\\\\n![Sunny]( \"Sunny\")\\\\n![Light rain shower]( \"Light rain shower\")\\\\n![Partly cloudy]( \"Partly cloudy\")\\\\n![Moderate or heavy rain shower]( \"Moderate or heavy rain shower\")\\\\n![Moderate or heavy rain shower]( \"Moderate or heavy rain shower\")\\\\n![Patchy rain possible]( \"Patchy rain possible\")\\\\n![Moderate or heavy rain shower]( \"Moderate or heavy rain shower\")\\\\n![Partly cloudy]( \"Partly cloudy\")\\\\n![Patchy rain possible]( \"Patchy rain possible\")\\'}, {\\'url\\': \\'https://www.easeweather.com/north-america/united-states/louisiana/june\\', \\'content\\': \\'Jun. 23. Moderate rain at times. 91° /73°, 0.04 in, 8 ; Jun. 24. Moderate or heavy rain shower. 93° /75°, 0.11 in, 8.\\'}]', name='tavily_search_results_json', id='486be77c-eaa1-47ff-9a62-a0f110e67701', tool_call_id='call_6ED1ZQ8nrjYIOY14yqInLPZc')]}, next=('llm',), config={'configurable': {'thread_id': '3', 'thread_ts': '1f0502d5-957d-6922-8003-f7ca1c9c5449'}}, metadata={'source': 'loop', 'step': 3, 'writes': {'action': {'messages': [ToolMessage(content='[{\\'url\\': \\'https://www.weather25.com/north-america/usa/louisiana?page=month&month=June\\', \\'content\\': \\'| [22 Sunny 33° /24°](https://www.weather25.com/north-america/usa/louisiana?page=past-weather#day=22&month=6 \"Weather in 22 june 2025\") | [23 Thundery outbreaks possible 33° /25°](https://www.weather25.com/north-america/usa/louisiana?page=today \"Weather in 23 june 2025\") | [24 Mist 34° /25°](https://www.weather25.com/north-america/usa/louisiana?page=tomorrow \"Weather in 24 june 2025\") | [25 Mist 36° /26°](https://www.weather25.com/north-america/usa/louisiana?page=day#date=2025-06-25 \"Weather in [...] ![Partly cloudy]( \"Partly cloudy\")\\\\n![Thundery outbreaks possible]( \"Thundery outbreaks possible\")\\\\n![Partly cloudy]( \"Partly cloudy\")\\\\n![Partly cloudy]( \"Partly cloudy\")\\\\n![Partly cloudy]( \"Partly cloudy\")\\\\n![Partly cloudy]( \"Partly cloudy\")\\\\n![Partly cloudy]( \"Partly cloudy\")\\\\n![Moderate or heavy rain shower]( \"Moderate or heavy rain shower\")\\\\n![Sunny]( \"Sunny\")\\\\n![Light rain shower]( \"Light rain shower\")\\\\n![Light rain shower]( \"Light rain shower\")\\\\n![Sunny]( \"Sunny\") [...] ![Light rain shower]( \"Light rain shower\")\\\\n![Sunny]( \"Sunny\")\\\\n![Light rain shower]( \"Light rain shower\")\\\\n![Partly cloudy]( \"Partly cloudy\")\\\\n![Moderate or heavy rain shower]( \"Moderate or heavy rain shower\")\\\\n![Moderate or heavy rain shower]( \"Moderate or heavy rain shower\")\\\\n![Patchy rain possible]( \"Patchy rain possible\")\\\\n![Moderate or heavy rain shower]( \"Moderate or heavy rain shower\")\\\\n![Partly cloudy]( \"Partly cloudy\")\\\\n![Patchy rain possible]( \"Patchy rain possible\")\\'}, {\\'url\\': \\'https://www.easeweather.com/north-america/united-states/louisiana/june\\', \\'content\\': \\'Jun. 23. Moderate rain at times. 91° /73°, 0.04 in, 8 ; Jun. 24. Moderate or heavy rain shower. 93° /75°, 0.11 in, 8.\\'}]', name='tavily_search_results_json', id='486be77c-eaa1-47ff-9a62-a0f110e67701', tool_call_id='call_6ED1ZQ8nrjYIOY14yqInLPZc')]}}}, created_at='2025-06-23T12:26:55.116490+00:00', parent_config={'configurable': {'thread_id': '3', 'thread_ts': '1f0502d4-5aaf-63ce-8002-9176e960414d'}})\n",
      "--\n",
      "StateSnapshot(values={'messages': [HumanMessage(content='Whats the weather in LA?', id='349211a9-1b4c-42c1-97e4-410c5bc6eb2c'), AIMessage(content='', additional_kwargs={'tool_calls': [{'function': {'arguments': '{\"query\":\"weather in Los Angeles\"}', 'name': 'tavily_search_results_json'}, 'id': 'call_6ED1ZQ8nrjYIOY14yqInLPZc', 'type': 'function'}]}, response_metadata={'finish_reason': 'tool_calls', 'logprobs': None, 'model_name': 'gpt-3.5-turbo', 'system_fingerprint': None, 'token_usage': {'completion_tokens': 22, 'completion_tokens_details': {'accepted_prediction_tokens': 0, 'audio_tokens': 0, 'reasoning_tokens': 0, 'rejected_prediction_tokens': 0}, 'prompt_tokens': 152, 'prompt_tokens_details': {'audio_tokens': 0, 'cached_tokens': 0}, 'total_tokens': 174}}, id='run-668df989-afbd-4b75-9565-ca503fd37656-0', tool_calls=[{'name': 'tavily_search_results_json', 'args': {'query': 'current weather in Louisiana'}, 'id': 'call_6ED1ZQ8nrjYIOY14yqInLPZc'}])]}, next=('action',), config={'configurable': {'thread_id': '3', 'thread_ts': '1f0502d4-5aaf-63ce-8002-9176e960414d'}}, metadata={'source': 'update', 'step': 2, 'writes': {'llm': {'messages': [HumanMessage(content='Whats the weather in LA?', id='349211a9-1b4c-42c1-97e4-410c5bc6eb2c'), AIMessage(content='', additional_kwargs={'tool_calls': [{'function': {'arguments': '{\"query\":\"weather in Los Angeles\"}', 'name': 'tavily_search_results_json'}, 'id': 'call_6ED1ZQ8nrjYIOY14yqInLPZc', 'type': 'function'}]}, response_metadata={'finish_reason': 'tool_calls', 'logprobs': None, 'model_name': 'gpt-3.5-turbo', 'system_fingerprint': None, 'token_usage': {'completion_tokens': 22, 'completion_tokens_details': {'accepted_prediction_tokens': 0, 'audio_tokens': 0, 'reasoning_tokens': 0, 'rejected_prediction_tokens': 0}, 'prompt_tokens': 152, 'prompt_tokens_details': {'audio_tokens': 0, 'cached_tokens': 0}, 'total_tokens': 174}}, id='run-668df989-afbd-4b75-9565-ca503fd37656-0', tool_calls=[{'name': 'tavily_search_results_json', 'args': {'query': 'current weather in Louisiana'}, 'id': 'call_6ED1ZQ8nrjYIOY14yqInLPZc'}])]}}}, created_at='2025-06-23T12:26:22.106706+00:00', parent_config={'configurable': {'thread_id': '3', 'thread_ts': '1f0502cd-d0c0-6452-8001-184730358697'}})\n",
      "--\n",
      "StateSnapshot(values={'messages': [HumanMessage(content='Whats the weather in LA?', id='349211a9-1b4c-42c1-97e4-410c5bc6eb2c'), AIMessage(content='', additional_kwargs={'tool_calls': [{'function': {'arguments': '{\"query\":\"weather in Los Angeles\"}', 'name': 'tavily_search_results_json'}, 'id': 'call_6ED1ZQ8nrjYIOY14yqInLPZc', 'type': 'function'}]}, response_metadata={'finish_reason': 'tool_calls', 'logprobs': None, 'model_name': 'gpt-3.5-turbo', 'system_fingerprint': None, 'token_usage': {'completion_tokens': 22, 'completion_tokens_details': {'accepted_prediction_tokens': 0, 'audio_tokens': 0, 'reasoning_tokens': 0, 'rejected_prediction_tokens': 0}, 'prompt_tokens': 152, 'prompt_tokens_details': {'audio_tokens': 0, 'cached_tokens': 0}, 'total_tokens': 174}}, id='run-668df989-afbd-4b75-9565-ca503fd37656-0', tool_calls=[{'name': 'tavily_search_results_json', 'args': {'query': 'weather in Los Angeles'}, 'id': 'call_6ED1ZQ8nrjYIOY14yqInLPZc'}])]}, next=('action',), config={'configurable': {'thread_id': '3', 'thread_ts': '1f0502cd-d0c0-6452-8001-184730358697'}}, metadata={'source': 'loop', 'step': 1, 'writes': {'llm': {'messages': [AIMessage(content='', additional_kwargs={'tool_calls': [{'function': {'arguments': '{\"query\":\"weather in Los Angeles\"}', 'name': 'tavily_search_results_json'}, 'id': 'call_6ED1ZQ8nrjYIOY14yqInLPZc', 'type': 'function'}]}, response_metadata={'finish_reason': 'tool_calls', 'logprobs': None, 'model_name': 'gpt-3.5-turbo', 'system_fingerprint': None, 'token_usage': {'completion_tokens': 22, 'completion_tokens_details': {'accepted_prediction_tokens': 0, 'audio_tokens': 0, 'reasoning_tokens': 0, 'rejected_prediction_tokens': 0}, 'prompt_tokens': 152, 'prompt_tokens_details': {'audio_tokens': 0, 'cached_tokens': 0}, 'total_tokens': 174}}, id='run-668df989-afbd-4b75-9565-ca503fd37656-0', tool_calls=[{'name': 'tavily_search_results_json', 'args': {'query': 'weather in Los Angeles'}, 'id': 'call_6ED1ZQ8nrjYIOY14yqInLPZc'}])]}}}, created_at='2025-06-23T12:23:26.582054+00:00', parent_config={'configurable': {'thread_id': '3', 'thread_ts': '1f0502cd-d083-61aa-8000-591386250f12'}})\n",
      "--\n",
      "StateSnapshot(values={'messages': [HumanMessage(content='Whats the weather in LA?', id='349211a9-1b4c-42c1-97e4-410c5bc6eb2c')]}, next=('llm',), config={'configurable': {'thread_id': '3', 'thread_ts': '1f0502cd-d083-61aa-8000-591386250f12'}}, metadata={'source': 'loop', 'step': 0, 'writes': None}, created_at='2025-06-23T12:23:26.557005+00:00', parent_config={'configurable': {'thread_id': '3', 'thread_ts': '1f0502cd-d080-6482-bfff-d9957dfa863c'}})\n",
      "--\n",
      "StateSnapshot(values={'messages': []}, next=('__start__',), config={'configurable': {'thread_id': '3', 'thread_ts': '1f0502cd-d080-6482-bfff-d9957dfa863c'}}, metadata={'source': 'input', 'step': -1, 'writes': {'messages': [HumanMessage(content='Whats the weather in LA?')]}}, created_at='2025-06-23T12:23:26.555857+00:00', parent_config=None)\n",
      "--\n"
     ]
    }
   ],
   "source": [
    "states = []\n",
    "for state in abot.graph.get_state_history(thread):\n",
    "    print(state)\n",
    "    print('--')\n",
    "    states.append(state)"
   ]
  },
  {
   "cell_type": "markdown",
   "id": "449896c8-6ec6-4166-b640-9cd1530336a0",
   "metadata": {},
   "source": [
    "To fetch the same state as was filmed, the offset below is changed to `-3` from `-1`. This accounts for the initial state `__start__` and the first state that are now stored to state memory with the latest version of software."
   ]
  },
  {
   "cell_type": "code",
   "execution_count": 40,
   "id": "4871f644-b131-4065-b7ce-b82c20a41f11",
   "metadata": {
    "height": 30
   },
   "outputs": [],
   "source": [
    "to_replay = states[-3]"
   ]
  },
  {
   "cell_type": "code",
   "execution_count": 41,
   "id": "8c3d8070-3f36-4cf0-a677-508e54359c8f",
   "metadata": {
    "height": 30
   },
   "outputs": [
    {
     "data": {
      "text/plain": [
       "StateSnapshot(values={'messages': [HumanMessage(content='Whats the weather in LA?', id='349211a9-1b4c-42c1-97e4-410c5bc6eb2c'), AIMessage(content='', additional_kwargs={'tool_calls': [{'function': {'arguments': '{\"query\":\"weather in Los Angeles\"}', 'name': 'tavily_search_results_json'}, 'id': 'call_6ED1ZQ8nrjYIOY14yqInLPZc', 'type': 'function'}]}, response_metadata={'finish_reason': 'tool_calls', 'logprobs': None, 'model_name': 'gpt-3.5-turbo', 'system_fingerprint': None, 'token_usage': {'completion_tokens': 22, 'completion_tokens_details': {'accepted_prediction_tokens': 0, 'audio_tokens': 0, 'reasoning_tokens': 0, 'rejected_prediction_tokens': 0}, 'prompt_tokens': 152, 'prompt_tokens_details': {'audio_tokens': 0, 'cached_tokens': 0}, 'total_tokens': 174}}, id='run-668df989-afbd-4b75-9565-ca503fd37656-0', tool_calls=[{'name': 'tavily_search_results_json', 'args': {'query': 'weather in Los Angeles'}, 'id': 'call_6ED1ZQ8nrjYIOY14yqInLPZc'}])]}, next=('action',), config={'configurable': {'thread_id': '3', 'thread_ts': '1f0502cd-d0c0-6452-8001-184730358697'}}, metadata={'source': 'loop', 'step': 1, 'writes': {'llm': {'messages': [AIMessage(content='', additional_kwargs={'tool_calls': [{'function': {'arguments': '{\"query\":\"weather in Los Angeles\"}', 'name': 'tavily_search_results_json'}, 'id': 'call_6ED1ZQ8nrjYIOY14yqInLPZc', 'type': 'function'}]}, response_metadata={'finish_reason': 'tool_calls', 'logprobs': None, 'model_name': 'gpt-3.5-turbo', 'system_fingerprint': None, 'token_usage': {'completion_tokens': 22, 'completion_tokens_details': {'accepted_prediction_tokens': 0, 'audio_tokens': 0, 'reasoning_tokens': 0, 'rejected_prediction_tokens': 0}, 'prompt_tokens': 152, 'prompt_tokens_details': {'audio_tokens': 0, 'cached_tokens': 0}, 'total_tokens': 174}}, id='run-668df989-afbd-4b75-9565-ca503fd37656-0', tool_calls=[{'name': 'tavily_search_results_json', 'args': {'query': 'weather in Los Angeles'}, 'id': 'call_6ED1ZQ8nrjYIOY14yqInLPZc'}])]}}}, created_at='2025-06-23T12:23:26.582054+00:00', parent_config={'configurable': {'thread_id': '3', 'thread_ts': '1f0502cd-d083-61aa-8000-591386250f12'}})"
      ]
     },
     "execution_count": 41,
     "metadata": {},
     "output_type": "execute_result"
    }
   ],
   "source": [
    "to_replay"
   ]
  },
  {
   "cell_type": "code",
   "execution_count": 42,
   "id": "98f3be1d-cc4c-41fa-9863-3e386e88e305",
   "metadata": {
    "height": 64
   },
   "outputs": [
    {
     "name": "stdout",
     "output_type": "stream",
     "text": [
      "Calling: {'name': 'tavily_search_results_json', 'args': {'query': 'weather in Los Angeles'}, 'id': 'call_6ED1ZQ8nrjYIOY14yqInLPZc'}\n",
      "Back to the model!\n",
      "{'messages': [ToolMessage(content='[{\\'url\\': \\'https://www.weather25.com/north-america/usa/california/los-angeles?page=month&month=June\\', \\'content\\': \\'Los Angeles weather in June 2025 | Weather25.com Los Angeles Image 3: weather in United States Los Angeles weather in June 2025 The average weather in Los Angeles in June | June | **27°** / 17° | 0 | 30 | 0 | 1 mm | Perfect | Los Angeles in June | Temperatures in Los Angeles in June Weather in Los Angeles in June - FAQ The average temperature in Los Angeles in June is 17/27° C. On average, there are 0 rainy days in Los Angeles during June. The weather in Los Angeles in June is perfect. On average, there are 0 snowy days in Los Angeles in June. More about the weather in Los Angeles\\'}, {\\'url\\': \\'https://world-weather.info/forecast/usa/los_angeles/june-2025/\\', \\'content\\': \"Weather in Los Angeles in June 2025 (California) - Detailed Weather Forecast for a Month Weather in Los Angeles in June 2025 *   1 +77° +63° *   2 +72° +59° *   3 +63° +61° *   4 +70° +59° *   5 +68° +61° *   6 +68° +61° *   7 +68° +61° *   8 +70° +59° *   9 +73° +61° *   10 +73° +63° *   11 +72° +63° *   12 +72° +63° *   13 +73° +63° *   14 +73° +63° *   15 +79° +59° *   16 +81° +61° *   17 +81° +63° Weather in Washington, D.C.**+79°** Sacramento**+59°** Pasadena**+61°** Bellflower**+63°** Burbank**+63°** Compton**+63°** Grandview**+63°** Solemint**+64°** world\\'s temperature today Goulburn day+50°F night+23°F Rustaq day+118°F night+93°F Weather forecast on your site Install _Los Angeles_ +64° Temperature units\"}]', name='tavily_search_results_json', id='a32cfc80-6896-464e-a55f-87b5f89a5033', tool_call_id='call_6ED1ZQ8nrjYIOY14yqInLPZc')]}\n",
      "{'messages': [HumanMessage(content='Whats the weather in LA?', id='349211a9-1b4c-42c1-97e4-410c5bc6eb2c'), AIMessage(content='', additional_kwargs={'tool_calls': [{'function': {'arguments': '{\"query\":\"weather in Los Angeles\"}', 'name': 'tavily_search_results_json'}, 'id': 'call_6ED1ZQ8nrjYIOY14yqInLPZc', 'type': 'function'}]}, response_metadata={'finish_reason': 'tool_calls', 'logprobs': None, 'model_name': 'gpt-3.5-turbo', 'system_fingerprint': None, 'token_usage': {'completion_tokens': 22, 'completion_tokens_details': {'accepted_prediction_tokens': 0, 'audio_tokens': 0, 'reasoning_tokens': 0, 'rejected_prediction_tokens': 0}, 'prompt_tokens': 152, 'prompt_tokens_details': {'audio_tokens': 0, 'cached_tokens': 0}, 'total_tokens': 174}}, id='run-668df989-afbd-4b75-9565-ca503fd37656-0', tool_calls=[{'name': 'tavily_search_results_json', 'args': {'query': 'weather in Los Angeles'}, 'id': 'call_6ED1ZQ8nrjYIOY14yqInLPZc'}]), ToolMessage(content='[{\\'url\\': \\'https://www.weather25.com/north-america/usa/california/los-angeles?page=month&month=June\\', \\'content\\': \\'Los Angeles weather in June 2025 | Weather25.com Los Angeles Image 3: weather in United States Los Angeles weather in June 2025 The average weather in Los Angeles in June | June | **27°** / 17° | 0 | 30 | 0 | 1 mm | Perfect | Los Angeles in June | Temperatures in Los Angeles in June Weather in Los Angeles in June - FAQ The average temperature in Los Angeles in June is 17/27° C. On average, there are 0 rainy days in Los Angeles during June. The weather in Los Angeles in June is perfect. On average, there are 0 snowy days in Los Angeles in June. More about the weather in Los Angeles\\'}, {\\'url\\': \\'https://world-weather.info/forecast/usa/los_angeles/june-2025/\\', \\'content\\': \"Weather in Los Angeles in June 2025 (California) - Detailed Weather Forecast for a Month Weather in Los Angeles in June 2025 *   1 +77° +63° *   2 +72° +59° *   3 +63° +61° *   4 +70° +59° *   5 +68° +61° *   6 +68° +61° *   7 +68° +61° *   8 +70° +59° *   9 +73° +61° *   10 +73° +63° *   11 +72° +63° *   12 +72° +63° *   13 +73° +63° *   14 +73° +63° *   15 +79° +59° *   16 +81° +61° *   17 +81° +63° Weather in Washington, D.C.**+79°** Sacramento**+59°** Pasadena**+61°** Bellflower**+63°** Burbank**+63°** Compton**+63°** Grandview**+63°** Solemint**+64°** world\\'s temperature today Goulburn day+50°F night+23°F Rustaq day+118°F night+93°F Weather forecast on your site Install _Los Angeles_ +64° Temperature units\"}]', name='tavily_search_results_json', id='a32cfc80-6896-464e-a55f-87b5f89a5033', tool_call_id='call_6ED1ZQ8nrjYIOY14yqInLPZc'), AIMessage(content='The weather in Los Angeles in June 2025 is expected to have an average temperature of 17/27°C with perfect conditions. There are no rainy or snowy days on average in June in Los Angeles.', response_metadata={'token_usage': {'completion_tokens': 43, 'prompt_tokens': 699, 'total_tokens': 742, 'prompt_tokens_details': {'cached_tokens': 0, 'audio_tokens': 0}, 'completion_tokens_details': {'reasoning_tokens': 0, 'audio_tokens': 0, 'accepted_prediction_tokens': 0, 'rejected_prediction_tokens': 0}}, 'model_name': 'gpt-3.5-turbo', 'system_fingerprint': None, 'finish_reason': 'stop', 'logprobs': None}, id='run-74415f4b-02ea-4231-9d7f-de0c5ad1b60a-0')]}\n",
      "{'messages': [AIMessage(content='The weather in Los Angeles in June 2025 is expected to have an average temperature of 17/27°C with perfect conditions. There are no rainy or snowy days on average in June in Los Angeles.', response_metadata={'token_usage': {'completion_tokens': 43, 'prompt_tokens': 699, 'total_tokens': 742, 'prompt_tokens_details': {'cached_tokens': 0, 'audio_tokens': 0}, 'completion_tokens_details': {'reasoning_tokens': 0, 'audio_tokens': 0, 'accepted_prediction_tokens': 0, 'rejected_prediction_tokens': 0}}, 'model_name': 'gpt-3.5-turbo', 'system_fingerprint': None, 'finish_reason': 'stop', 'logprobs': None}, id='run-74415f4b-02ea-4231-9d7f-de0c5ad1b60a-0')]}\n"
     ]
    }
   ],
   "source": [
    "for event in abot.graph.stream(None, to_replay.config):\n",
    "    for k, v in event.items():\n",
    "        print(v)"
   ]
  },
  {
   "cell_type": "markdown",
   "id": "005353dc-630b-4b40-ab19-56c57ac06611",
   "metadata": {},
   "source": [
    "## Go back in time and edit"
   ]
  },
  {
   "cell_type": "code",
   "execution_count": 43,
   "id": "0ad8a6cc-65d4-4ce7-87aa-4e67d7c23d7b",
   "metadata": {
    "height": 30
   },
   "outputs": [
    {
     "data": {
      "text/plain": [
       "StateSnapshot(values={'messages': [HumanMessage(content='Whats the weather in LA?', id='349211a9-1b4c-42c1-97e4-410c5bc6eb2c'), AIMessage(content='', additional_kwargs={'tool_calls': [{'function': {'arguments': '{\"query\":\"weather in Los Angeles\"}', 'name': 'tavily_search_results_json'}, 'id': 'call_6ED1ZQ8nrjYIOY14yqInLPZc', 'type': 'function'}]}, response_metadata={'finish_reason': 'tool_calls', 'logprobs': None, 'model_name': 'gpt-3.5-turbo', 'system_fingerprint': None, 'token_usage': {'completion_tokens': 22, 'completion_tokens_details': {'accepted_prediction_tokens': 0, 'audio_tokens': 0, 'reasoning_tokens': 0, 'rejected_prediction_tokens': 0}, 'prompt_tokens': 152, 'prompt_tokens_details': {'audio_tokens': 0, 'cached_tokens': 0}, 'total_tokens': 174}}, id='run-668df989-afbd-4b75-9565-ca503fd37656-0', tool_calls=[{'name': 'tavily_search_results_json', 'args': {'query': 'weather in Los Angeles'}, 'id': 'call_6ED1ZQ8nrjYIOY14yqInLPZc'}])]}, next=('action',), config={'configurable': {'thread_id': '3', 'thread_ts': '1f0502cd-d0c0-6452-8001-184730358697'}}, metadata={'source': 'loop', 'step': 1, 'writes': {'llm': {'messages': [AIMessage(content='', additional_kwargs={'tool_calls': [{'function': {'arguments': '{\"query\":\"weather in Los Angeles\"}', 'name': 'tavily_search_results_json'}, 'id': 'call_6ED1ZQ8nrjYIOY14yqInLPZc', 'type': 'function'}]}, response_metadata={'finish_reason': 'tool_calls', 'logprobs': None, 'model_name': 'gpt-3.5-turbo', 'system_fingerprint': None, 'token_usage': {'completion_tokens': 22, 'completion_tokens_details': {'accepted_prediction_tokens': 0, 'audio_tokens': 0, 'reasoning_tokens': 0, 'rejected_prediction_tokens': 0}, 'prompt_tokens': 152, 'prompt_tokens_details': {'audio_tokens': 0, 'cached_tokens': 0}, 'total_tokens': 174}}, id='run-668df989-afbd-4b75-9565-ca503fd37656-0', tool_calls=[{'name': 'tavily_search_results_json', 'args': {'query': 'weather in Los Angeles'}, 'id': 'call_6ED1ZQ8nrjYIOY14yqInLPZc'}])]}}}, created_at='2025-06-23T12:23:26.582054+00:00', parent_config={'configurable': {'thread_id': '3', 'thread_ts': '1f0502cd-d083-61aa-8000-591386250f12'}})"
      ]
     },
     "execution_count": 43,
     "metadata": {},
     "output_type": "execute_result"
    }
   ],
   "source": [
    "to_replay"
   ]
  },
  {
   "cell_type": "code",
   "execution_count": 44,
   "id": "592b5e62-a203-433c-92a0-3783f490cde1",
   "metadata": {
    "height": 81
   },
   "outputs": [],
   "source": [
    "_id = to_replay.values['messages'][-1].tool_calls[0]['id']\n",
    "to_replay.values['messages'][-1].tool_calls = [{'name': 'tavily_search_results_json',\n",
    "  'args': {'query': 'current weather in LA, accuweather'},\n",
    "  'id': _id}]"
   ]
  },
  {
   "cell_type": "code",
   "execution_count": 45,
   "id": "14fa923c-7e4f-42d1-965f-0f8ccd50fbd7",
   "metadata": {
    "height": 30
   },
   "outputs": [
    {
     "name": "stdout",
     "output_type": "stream",
     "text": [
      "{'messages': [HumanMessage(content='Whats the weather in LA?', id='349211a9-1b4c-42c1-97e4-410c5bc6eb2c'), AIMessage(content='', additional_kwargs={'tool_calls': [{'function': {'arguments': '{\"query\":\"weather in Los Angeles\"}', 'name': 'tavily_search_results_json'}, 'id': 'call_6ED1ZQ8nrjYIOY14yqInLPZc', 'type': 'function'}]}, response_metadata={'finish_reason': 'tool_calls', 'logprobs': None, 'model_name': 'gpt-3.5-turbo', 'system_fingerprint': None, 'token_usage': {'completion_tokens': 22, 'completion_tokens_details': {'accepted_prediction_tokens': 0, 'audio_tokens': 0, 'reasoning_tokens': 0, 'rejected_prediction_tokens': 0}, 'prompt_tokens': 152, 'prompt_tokens_details': {'audio_tokens': 0, 'cached_tokens': 0}, 'total_tokens': 174}}, id='run-668df989-afbd-4b75-9565-ca503fd37656-0', tool_calls=[{'name': 'tavily_search_results_json', 'args': {'query': 'current weather in LA, accuweather'}, 'id': 'call_6ED1ZQ8nrjYIOY14yqInLPZc'}])]}\n"
     ]
    }
   ],
   "source": [
    "branch_state = abot.graph.update_state(to_replay.config, to_replay.values)"
   ]
  },
  {
   "cell_type": "code",
   "execution_count": 46,
   "id": "570c6245-2837-4ac5-983b-95f61f3ac10d",
   "metadata": {
    "height": 81
   },
   "outputs": [
    {
     "name": "stdout",
     "output_type": "stream",
     "text": [
      "Calling: {'name': 'tavily_search_results_json', 'args': {'query': 'current weather in LA, accuweather'}, 'id': 'call_6ED1ZQ8nrjYIOY14yqInLPZc'}\n",
      "Back to the model!\n",
      "{'messages': [ToolMessage(content=\"[{'url': 'https://www.accuweather.com/en/us/los-angeles/90012/weather-forecast/347625', 'content': 'Missing: 23/06/2025'}, {'url': 'https://www.accuweather.com/en/us/east-los-angeles/90022/june-weather/332110', 'content': 'Missing: 23/06/2025'}]\", name='tavily_search_results_json', id='856e47e5-b3cd-498e-85b8-c2c66eff2f4d', tool_call_id='call_6ED1ZQ8nrjYIOY14yqInLPZc')]}\n",
      "{'messages': [HumanMessage(content='Whats the weather in LA?', id='349211a9-1b4c-42c1-97e4-410c5bc6eb2c'), AIMessage(content='', additional_kwargs={'tool_calls': [{'function': {'arguments': '{\"query\":\"weather in Los Angeles\"}', 'name': 'tavily_search_results_json'}, 'id': 'call_6ED1ZQ8nrjYIOY14yqInLPZc', 'type': 'function'}]}, response_metadata={'finish_reason': 'tool_calls', 'logprobs': None, 'model_name': 'gpt-3.5-turbo', 'system_fingerprint': None, 'token_usage': {'completion_tokens': 22, 'completion_tokens_details': {'accepted_prediction_tokens': 0, 'audio_tokens': 0, 'reasoning_tokens': 0, 'rejected_prediction_tokens': 0}, 'prompt_tokens': 152, 'prompt_tokens_details': {'audio_tokens': 0, 'cached_tokens': 0}, 'total_tokens': 174}}, id='run-668df989-afbd-4b75-9565-ca503fd37656-0', tool_calls=[{'name': 'tavily_search_results_json', 'args': {'query': 'current weather in LA, accuweather'}, 'id': 'call_6ED1ZQ8nrjYIOY14yqInLPZc'}]), ToolMessage(content=\"[{'url': 'https://www.accuweather.com/en/us/los-angeles/90012/weather-forecast/347625', 'content': 'Missing: 23/06/2025'}, {'url': 'https://www.accuweather.com/en/us/east-los-angeles/90022/june-weather/332110', 'content': 'Missing: 23/06/2025'}]\", name='tavily_search_results_json', id='856e47e5-b3cd-498e-85b8-c2c66eff2f4d', tool_call_id='call_6ED1ZQ8nrjYIOY14yqInLPZc'), AIMessage(content=\"It seems that I couldn't retrieve the current weather information for LA from AccuWeather. Would you like me to try another source or assist you with something else?\", response_metadata={'token_usage': {'completion_tokens': 34, 'prompt_tokens': 278, 'total_tokens': 312, 'prompt_tokens_details': {'cached_tokens': 0, 'audio_tokens': 0}, 'completion_tokens_details': {'reasoning_tokens': 0, 'audio_tokens': 0, 'accepted_prediction_tokens': 0, 'rejected_prediction_tokens': 0}}, 'model_name': 'gpt-3.5-turbo', 'system_fingerprint': None, 'finish_reason': 'stop', 'logprobs': None}, id='run-ea884b0e-2c50-4f19-a092-c0a493dc860f-0')]}\n",
      "{'messages': [AIMessage(content=\"It seems that I couldn't retrieve the current weather information for LA from AccuWeather. Would you like me to try another source or assist you with something else?\", response_metadata={'token_usage': {'completion_tokens': 34, 'prompt_tokens': 278, 'total_tokens': 312, 'prompt_tokens_details': {'cached_tokens': 0, 'audio_tokens': 0}, 'completion_tokens_details': {'reasoning_tokens': 0, 'audio_tokens': 0, 'accepted_prediction_tokens': 0, 'rejected_prediction_tokens': 0}}, 'model_name': 'gpt-3.5-turbo', 'system_fingerprint': None, 'finish_reason': 'stop', 'logprobs': None}, id='run-ea884b0e-2c50-4f19-a092-c0a493dc860f-0')]}\n"
     ]
    }
   ],
   "source": [
    "for event in abot.graph.stream(None, branch_state):\n",
    "    for k, v in event.items():\n",
    "        if k != \"__end__\":\n",
    "            print(v)"
   ]
  },
  {
   "cell_type": "markdown",
   "id": "f1016ce7-368d-4922-9044-fcdfd47c273b",
   "metadata": {},
   "source": [
    "## Add message to a state at a given time"
   ]
  },
  {
   "cell_type": "code",
   "execution_count": 47,
   "id": "6b910915-b087-4d35-afff-0ec30a5852f1",
   "metadata": {
    "height": 30
   },
   "outputs": [
    {
     "data": {
      "text/plain": [
       "StateSnapshot(values={'messages': [HumanMessage(content='Whats the weather in LA?', id='349211a9-1b4c-42c1-97e4-410c5bc6eb2c'), AIMessage(content='', additional_kwargs={'tool_calls': [{'function': {'arguments': '{\"query\":\"weather in Los Angeles\"}', 'name': 'tavily_search_results_json'}, 'id': 'call_6ED1ZQ8nrjYIOY14yqInLPZc', 'type': 'function'}]}, response_metadata={'finish_reason': 'tool_calls', 'logprobs': None, 'model_name': 'gpt-3.5-turbo', 'system_fingerprint': None, 'token_usage': {'completion_tokens': 22, 'completion_tokens_details': {'accepted_prediction_tokens': 0, 'audio_tokens': 0, 'reasoning_tokens': 0, 'rejected_prediction_tokens': 0}, 'prompt_tokens': 152, 'prompt_tokens_details': {'audio_tokens': 0, 'cached_tokens': 0}, 'total_tokens': 174}}, id='run-668df989-afbd-4b75-9565-ca503fd37656-0', tool_calls=[{'name': 'tavily_search_results_json', 'args': {'query': 'current weather in LA, accuweather'}, 'id': 'call_6ED1ZQ8nrjYIOY14yqInLPZc'}])]}, next=('action',), config={'configurable': {'thread_id': '3', 'thread_ts': '1f0502cd-d0c0-6452-8001-184730358697'}}, metadata={'source': 'loop', 'step': 1, 'writes': {'llm': {'messages': [AIMessage(content='', additional_kwargs={'tool_calls': [{'function': {'arguments': '{\"query\":\"weather in Los Angeles\"}', 'name': 'tavily_search_results_json'}, 'id': 'call_6ED1ZQ8nrjYIOY14yqInLPZc', 'type': 'function'}]}, response_metadata={'finish_reason': 'tool_calls', 'logprobs': None, 'model_name': 'gpt-3.5-turbo', 'system_fingerprint': None, 'token_usage': {'completion_tokens': 22, 'completion_tokens_details': {'accepted_prediction_tokens': 0, 'audio_tokens': 0, 'reasoning_tokens': 0, 'rejected_prediction_tokens': 0}, 'prompt_tokens': 152, 'prompt_tokens_details': {'audio_tokens': 0, 'cached_tokens': 0}, 'total_tokens': 174}}, id='run-668df989-afbd-4b75-9565-ca503fd37656-0', tool_calls=[{'name': 'tavily_search_results_json', 'args': {'query': 'weather in Los Angeles'}, 'id': 'call_6ED1ZQ8nrjYIOY14yqInLPZc'}])]}}}, created_at='2025-06-23T12:23:26.582054+00:00', parent_config={'configurable': {'thread_id': '3', 'thread_ts': '1f0502cd-d083-61aa-8000-591386250f12'}})"
      ]
     },
     "execution_count": 47,
     "metadata": {},
     "output_type": "execute_result"
    }
   ],
   "source": [
    "to_replay"
   ]
  },
  {
   "cell_type": "code",
   "execution_count": 48,
   "id": "c4feb6cc-5129-4a99-bb45-851bc07b5709",
   "metadata": {
    "height": 30
   },
   "outputs": [],
   "source": [
    "_id = to_replay.values['messages'][-1].tool_calls[0]['id']"
   ]
  },
  {
   "cell_type": "code",
   "execution_count": 49,
   "id": "e85a02b4-96cc-4b01-8792-397a774eb499",
   "metadata": {
    "height": 98
   },
   "outputs": [],
   "source": [
    "state_update = {\"messages\": [ToolMessage(\n",
    "    tool_call_id=_id,\n",
    "    name=\"tavily_search_results_json\",\n",
    "    content=\"54 degree celcius\",\n",
    ")]}"
   ]
  },
  {
   "cell_type": "code",
   "execution_count": 50,
   "id": "ae8b86a6-5e20-4252-b1d8-009b8318345a",
   "metadata": {
    "height": 81
   },
   "outputs": [],
   "source": [
    "branch_and_add = abot.graph.update_state(\n",
    "    to_replay.config, \n",
    "    state_update, \n",
    "    as_node=\"action\")"
   ]
  },
  {
   "cell_type": "code",
   "execution_count": 51,
   "id": "af925917-b746-48c9-ac74-62fefbe5246c",
   "metadata": {
    "height": 64
   },
   "outputs": [
    {
     "name": "stdout",
     "output_type": "stream",
     "text": [
      "{'messages': [HumanMessage(content='Whats the weather in LA?', id='349211a9-1b4c-42c1-97e4-410c5bc6eb2c'), AIMessage(content='', additional_kwargs={'tool_calls': [{'function': {'arguments': '{\"query\":\"weather in Los Angeles\"}', 'name': 'tavily_search_results_json'}, 'id': 'call_6ED1ZQ8nrjYIOY14yqInLPZc', 'type': 'function'}]}, response_metadata={'finish_reason': 'tool_calls', 'logprobs': None, 'model_name': 'gpt-3.5-turbo', 'system_fingerprint': None, 'token_usage': {'completion_tokens': 22, 'completion_tokens_details': {'accepted_prediction_tokens': 0, 'audio_tokens': 0, 'reasoning_tokens': 0, 'rejected_prediction_tokens': 0}, 'prompt_tokens': 152, 'prompt_tokens_details': {'audio_tokens': 0, 'cached_tokens': 0}, 'total_tokens': 174}}, id='run-668df989-afbd-4b75-9565-ca503fd37656-0', tool_calls=[{'name': 'tavily_search_results_json', 'args': {'query': 'weather in Los Angeles'}, 'id': 'call_6ED1ZQ8nrjYIOY14yqInLPZc'}]), ToolMessage(content='54 degree celcius', name='tavily_search_results_json', id='8c2f9352-8290-49ca-846a-18859a3e408c', tool_call_id='call_6ED1ZQ8nrjYIOY14yqInLPZc'), AIMessage(content='The current weather in Los Angeles is 54 degrees Celsius.', response_metadata={'token_usage': {'completion_tokens': 13, 'prompt_tokens': 190, 'total_tokens': 203, 'prompt_tokens_details': {'cached_tokens': 0, 'audio_tokens': 0}, 'completion_tokens_details': {'reasoning_tokens': 0, 'audio_tokens': 0, 'accepted_prediction_tokens': 0, 'rejected_prediction_tokens': 0}}, 'model_name': 'gpt-3.5-turbo', 'system_fingerprint': None, 'finish_reason': 'stop', 'logprobs': None}, id='run-30b647f9-c4c1-4bdc-9902-8b76c6493e9b-0')]}\n",
      "{'messages': [AIMessage(content='The current weather in Los Angeles is 54 degrees Celsius.', response_metadata={'token_usage': {'completion_tokens': 13, 'prompt_tokens': 190, 'total_tokens': 203, 'prompt_tokens_details': {'cached_tokens': 0, 'audio_tokens': 0}, 'completion_tokens_details': {'reasoning_tokens': 0, 'audio_tokens': 0, 'accepted_prediction_tokens': 0, 'rejected_prediction_tokens': 0}}, 'model_name': 'gpt-3.5-turbo', 'system_fingerprint': None, 'finish_reason': 'stop', 'logprobs': None}, id='run-30b647f9-c4c1-4bdc-9902-8b76c6493e9b-0')]}\n"
     ]
    }
   ],
   "source": [
    "for event in abot.graph.stream(None, branch_and_add):\n",
    "    for k, v in event.items():\n",
    "        print(v)"
   ]
  },
  {
   "cell_type": "markdown",
   "id": "a6b1de51-f1dd-4719-89e6-01c21d2b304e",
   "metadata": {},
   "source": [
    "# Extra Practice"
   ]
  },
  {
   "cell_type": "markdown",
   "id": "31e06033-59fd-4d6b-8891-fb8bc2d7a037",
   "metadata": {},
   "source": [
    "## Build a small graph\n",
    "This is a small simple graph you can tinker with if you want more insight into controlling state memory."
   ]
  },
  {
   "cell_type": "code",
   "execution_count": null,
   "id": "7614683e-1c13-4518-b464-263fb91be761",
   "metadata": {
    "height": 64
   },
   "outputs": [],
   "source": [
    "from dotenv import load_dotenv\n",
    "\n",
    "_ = load_dotenv()"
   ]
  },
  {
   "cell_type": "code",
   "execution_count": null,
   "id": "efbef86a-75fe-416f-99ab-70b181d934dc",
   "metadata": {
    "height": 81
   },
   "outputs": [],
   "source": [
    "from langgraph.graph import StateGraph, END\n",
    "from typing import TypedDict, Annotated\n",
    "import operator\n",
    "from langgraph.checkpoint.sqlite import SqliteSaver"
   ]
  },
  {
   "cell_type": "markdown",
   "id": "67c972f7-5a14-49da-9d82-37105a6637ed",
   "metadata": {},
   "source": [
    "Define a simple 2 node graph with the following state:\n",
    "-`lnode`: last node\n",
    "-`scratch`: a scratchpad location\n",
    "-`count` : a counter that is incremented each step"
   ]
  },
  {
   "cell_type": "code",
   "execution_count": null,
   "id": "b846f637-5e98-4a7d-9ca0-5144302b7cef",
   "metadata": {
    "height": 81
   },
   "outputs": [],
   "source": [
    "class AgentState(TypedDict):\n",
    "    lnode: str\n",
    "    scratch: str\n",
    "    count: Annotated[int, operator.add]"
   ]
  },
  {
   "cell_type": "code",
   "execution_count": null,
   "id": "b8bb1c6d-41b7-4f5b-807b-ecbdec82d8d6",
   "metadata": {
    "height": 183
   },
   "outputs": [],
   "source": [
    "def node1(state: AgentState):\n",
    "    print(f\"node1, count:{state['count']}\")\n",
    "    return {\"lnode\": \"node_1\",\n",
    "            \"count\": 1,\n",
    "           }\n",
    "def node2(state: AgentState):\n",
    "    print(f\"node2, count:{state['count']}\")\n",
    "    return {\"lnode\": \"node_2\",\n",
    "            \"count\": 1,\n",
    "           }"
   ]
  },
  {
   "cell_type": "markdown",
   "id": "6adc403b-10d2-4a6c-bd21-c84bb8e0c8fc",
   "metadata": {},
   "source": [
    "The graph goes N1->N2->N1... but breaks after count reaches 3."
   ]
  },
  {
   "cell_type": "code",
   "execution_count": null,
   "id": "b2c6d249-4793-41c5-8e80-40f1eedc4baf",
   "metadata": {
    "height": 47
   },
   "outputs": [],
   "source": [
    "def should_continue(state):\n",
    "    return state[\"count\"] < 3"
   ]
  },
  {
   "cell_type": "code",
   "execution_count": null,
   "id": "4e3721d9-4508-48fa-9be0-93af20144072",
   "metadata": {
    "height": 166
   },
   "outputs": [],
   "source": [
    "builder = StateGraph(AgentState)\n",
    "builder.add_node(\"Node1\", node1)\n",
    "builder.add_node(\"Node2\", node2)\n",
    "\n",
    "builder.add_edge(\"Node1\", \"Node2\")\n",
    "builder.add_conditional_edges(\"Node2\", \n",
    "                              should_continue, \n",
    "                              {True: \"Node1\", False: END})\n",
    "builder.set_entry_point(\"Node1\")"
   ]
  },
  {
   "cell_type": "code",
   "execution_count": null,
   "id": "8d35d70c-daeb-49c1-9b7c-90cc2a7ca142",
   "metadata": {
    "height": 47
   },
   "outputs": [],
   "source": [
    "memory = SqliteSaver.from_conn_string(\":memory:\")\n",
    "graph = builder.compile(checkpointer=memory)"
   ]
  },
  {
   "cell_type": "markdown",
   "id": "c57051f5-f7fb-4be5-a2f5-21cb1aa4fecb",
   "metadata": {},
   "source": [
    "### Run it!\n",
    "Now, set the thread and run!"
   ]
  },
  {
   "cell_type": "code",
   "execution_count": null,
   "id": "edba3a1a-84a7-45eb-a6ee-74a612b68d54",
   "metadata": {
    "height": 47
   },
   "outputs": [],
   "source": [
    "thread = {\"configurable\": {\"thread_id\": str(1)}}\n",
    "graph.invoke({\"count\":0, \"scratch\":\"hi\"},thread)"
   ]
  },
  {
   "cell_type": "markdown",
   "id": "2ce7b035-bfdb-4642-8750-47d188277423",
   "metadata": {},
   "source": [
    "### Look at current state"
   ]
  },
  {
   "cell_type": "markdown",
   "id": "43324904-a6f4-4299-86de-e0218e4cb225",
   "metadata": {},
   "source": [
    "Get the current state. Note the `values` which are the AgentState. Note the `config` and the `thread_ts`. You will be using those to refer to snapshots below."
   ]
  },
  {
   "cell_type": "code",
   "execution_count": null,
   "id": "f2513b41-31b2-46e6-84f6-0c519f697973",
   "metadata": {
    "height": 30
   },
   "outputs": [],
   "source": [
    "graph.get_state(thread)"
   ]
  },
  {
   "cell_type": "markdown",
   "id": "7f7be4ae-24f0-4362-bd99-55ad38fe0112",
   "metadata": {},
   "source": [
    "View all the statesnapshots in memory. You can use the displayed `count` agentstate variable to help track what you see. Notice the most recent snapshots are returned by the iterator first. Also note that there is a handy `step` variable in the metadata that counts the number of steps in the graph execution. This is a bit detailed - but you can also notice that the *parent_config* is the *config* of the previous node. At initial startup, additional states are inserted into memory to create a parent. This is something to check when you branch or *time travel* below."
   ]
  },
  {
   "cell_type": "markdown",
   "id": "18647be0-c7c6-4ec5-9454-54a034fcd053",
   "metadata": {},
   "source": [
    "### Look at state history"
   ]
  },
  {
   "cell_type": "code",
   "execution_count": null,
   "id": "686fa197-c97f-4ae6-82d2-938bbe5542c1",
   "metadata": {
    "height": 47
   },
   "outputs": [],
   "source": [
    "for state in graph.get_state_history(thread):\n",
    "    print(state, \"\\n\")"
   ]
  },
  {
   "cell_type": "markdown",
   "id": "dd7850ff-0748-43d7-8956-074fa9fd819f",
   "metadata": {},
   "source": [
    "Store just the `config` into an list. Note the sequence of counts on the right. `get_state_history` returns the most recent snapshots first."
   ]
  },
  {
   "cell_type": "code",
   "execution_count": null,
   "id": "9f68e604-4f53-46c0-8f06-e7726ec9dcf6",
   "metadata": {
    "height": 81
   },
   "outputs": [],
   "source": [
    "states = []\n",
    "for state in graph.get_state_history(thread):\n",
    "    states.append(state.config)\n",
    "    print(state.config, state.values['count'])"
   ]
  },
  {
   "cell_type": "markdown",
   "id": "90790095-4080-4e76-b538-47caac7d9699",
   "metadata": {},
   "source": [
    "Grab an early state."
   ]
  },
  {
   "cell_type": "code",
   "execution_count": null,
   "id": "e1db574e-f158-44cf-b921-f1f4466c314d",
   "metadata": {
    "height": 30
   },
   "outputs": [],
   "source": [
    "states[-3]"
   ]
  },
  {
   "cell_type": "markdown",
   "id": "2cc233eb-f388-4ecd-bfb5-dac3568d37ce",
   "metadata": {},
   "source": [
    "This is the state after Node1 completed for the first time. Note `next` is `Node2`and `count` is 1."
   ]
  },
  {
   "cell_type": "code",
   "execution_count": null,
   "id": "240f5039-7916-4c2a-88d5-d363b2898e70",
   "metadata": {
    "height": 30
   },
   "outputs": [],
   "source": [
    "graph.get_state(states[-3])"
   ]
  },
  {
   "cell_type": "markdown",
   "id": "4872468e-4d23-4840-ae14-c06c1ab4f161",
   "metadata": {},
   "source": [
    "### Go Back in Time\n",
    "Use that state in `invoke` to go back in time. Notice it uses states[-3] as *current_state* and continues to node2,"
   ]
  },
  {
   "cell_type": "code",
   "execution_count": null,
   "id": "e3049179-b901-4557-a9c4-78afb3d53d27",
   "metadata": {
    "height": 30
   },
   "outputs": [],
   "source": [
    "graph.invoke(None, states[-3])"
   ]
  },
  {
   "cell_type": "markdown",
   "id": "5bf7789a-df3d-4c7e-8899-d96a99d45717",
   "metadata": {},
   "source": [
    "Notice the new states are now in state history. Notice the counts on the far right."
   ]
  },
  {
   "cell_type": "code",
   "execution_count": null,
   "id": "37fa44ec-9bd1-484b-a415-cc5f50b6e799",
   "metadata": {
    "height": 64
   },
   "outputs": [],
   "source": [
    "thread = {\"configurable\": {\"thread_id\": str(1)}}\n",
    "for state in graph.get_state_history(thread):\n",
    "    print(state.config, state.values['count'])"
   ]
  },
  {
   "cell_type": "markdown",
   "id": "d3c8d305-6752-4cf6-a8cb-7babf3bbd643",
   "metadata": {},
   "source": [
    "You can see the details below. Lots of text, but try to find the node that start the new branch. Notice the parent *config* is not the previous entry in the stack, but is the entry from state[-3]."
   ]
  },
  {
   "cell_type": "code",
   "execution_count": null,
   "id": "07d25697-fcf0-4a26-9485-3e195b0af225",
   "metadata": {
    "height": 64
   },
   "outputs": [],
   "source": [
    "thread = {\"configurable\": {\"thread_id\": str(1)}}\n",
    "for state in graph.get_state_history(thread):\n",
    "    print(state,\"\\n\")"
   ]
  },
  {
   "cell_type": "markdown",
   "id": "d4653f91-761c-4185-8ca2-83de758308c7",
   "metadata": {},
   "source": [
    "### Modify State\n",
    "Let's start by starting a fresh thread and running to clean out history."
   ]
  },
  {
   "cell_type": "code",
   "execution_count": null,
   "id": "0eaf346c-ce22-4b6a-b18f-d200dfd991de",
   "metadata": {
    "height": 47
   },
   "outputs": [],
   "source": [
    "thread2 = {\"configurable\": {\"thread_id\": str(2)}}\n",
    "graph.invoke({\"count\":0, \"scratch\":\"hi\"},thread2)"
   ]
  },
  {
   "cell_type": "code",
   "execution_count": null,
   "id": "90fc1797-25e6-4931-b173-2e520b71c372",
   "metadata": {
    "height": 64
   },
   "outputs": [],
   "source": [
    "from IPython.display import Image\n",
    "\n",
    "Image(graph.get_graph().draw_png())"
   ]
  },
  {
   "cell_type": "code",
   "execution_count": null,
   "id": "4ede9215-3133-4ad9-8dd5-6a8288ebe055",
   "metadata": {
    "height": 81
   },
   "outputs": [],
   "source": [
    "states2 = []\n",
    "for state in graph.get_state_history(thread2):\n",
    "    states2.append(state.config)\n",
    "    print(state.config, state.values['count'])   "
   ]
  },
  {
   "cell_type": "markdown",
   "id": "23ab2c5f-cb1d-4851-8925-ce0af1f12a40",
   "metadata": {},
   "source": [
    "Start by grabbing a state."
   ]
  },
  {
   "cell_type": "code",
   "execution_count": null,
   "id": "65313f6a-c7a9-49e3-aab2-0eb905e74a91",
   "metadata": {
    "height": 47
   },
   "outputs": [],
   "source": [
    "save_state = graph.get_state(states2[-3])\n",
    "save_state"
   ]
  },
  {
   "cell_type": "markdown",
   "id": "c81b354b-8c2d-4150-9150-ac9d8486af02",
   "metadata": {},
   "source": [
    "Now modify the values. One subtle item to note: Recall when agent state was defined, `count` used `operator.add` to indicate that values are *added* to the current value. Here, `-3` will be added to the current count value rather than replace it."
   ]
  },
  {
   "cell_type": "code",
   "execution_count": null,
   "id": "dae6527b-912f-4f86-a07b-1fae684aaa77",
   "metadata": {
    "height": 64
   },
   "outputs": [],
   "source": [
    "save_state.values[\"count\"] = -3\n",
    "save_state.values[\"scratch\"] = \"hello\"\n",
    "save_state"
   ]
  },
  {
   "cell_type": "markdown",
   "id": "904bb1eb-2e39-472f-ae56-d8e95e2f1ab6",
   "metadata": {},
   "source": [
    "Now update the state. This creates a new entry at the *top*, or *latest* entry in memory. This will become the current state."
   ]
  },
  {
   "cell_type": "code",
   "execution_count": null,
   "id": "bcd78670-b119-45fa-934b-2ce2d477b4c2",
   "metadata": {
    "height": 30
   },
   "outputs": [],
   "source": [
    "graph.update_state(thread2,save_state.values)"
   ]
  },
  {
   "cell_type": "markdown",
   "id": "1bb3beed-1c44-4364-bde9-b29ea5e8ca30",
   "metadata": {},
   "source": [
    "Current state is at the top. You can match the `thread_ts`.\n",
    "Notice the `parent_config`, `thread_ts` of the new node - it is the previous node."
   ]
  },
  {
   "cell_type": "code",
   "execution_count": null,
   "id": "231c7011-afe4-44bf-9e19-16220004912f",
   "metadata": {
    "height": 81
   },
   "outputs": [],
   "source": [
    "for i, state in enumerate(graph.get_state_history(thread2)):\n",
    "    if i >= 3:  #print latest 3\n",
    "        break\n",
    "    print(state, '\\n')"
   ]
  },
  {
   "cell_type": "markdown",
   "id": "62d34cd8-99b6-4224-b345-fe8475f2a602",
   "metadata": {},
   "source": [
    "### Try again with `as_node`\n",
    "When writing using `update_state()`, you want to define to the graph logic which node should be assumed as the writer. What this does is allow th graph logic to find the node on the graph. After writing the values, the `next()` value is computed by travesing the graph using the new state. In this case, the state we have was written by `Node1`. The graph can then compute the next state as being `Node2`. Note that in some graphs, this may involve going through conditional edges!  Let's try this out."
   ]
  },
  {
   "cell_type": "code",
   "execution_count": null,
   "id": "7bfda2f6-5887-40fa-a733-a4357ad857d8",
   "metadata": {
    "height": 30
   },
   "outputs": [],
   "source": [
    "graph.update_state(thread2,save_state.values, as_node=\"Node1\")"
   ]
  },
  {
   "cell_type": "code",
   "execution_count": null,
   "id": "0788ac0f-5f64-49b2-b335-3094bbb19143",
   "metadata": {
    "height": 81
   },
   "outputs": [],
   "source": [
    "for i, state in enumerate(graph.get_state_history(thread2)):\n",
    "    if i >= 3:  #print latest 3\n",
    "        break\n",
    "    print(state, '\\n')"
   ]
  },
  {
   "cell_type": "markdown",
   "id": "18a8f52e-d1a6-46a0-a519-6fda0cb91624",
   "metadata": {},
   "source": [
    "`invoke` will run from the current state if not given a particular `thread_ts`. This is now the entry that was just added."
   ]
  },
  {
   "cell_type": "code",
   "execution_count": null,
   "id": "9650d355-07c1-4a7d-a21d-4231673a7ee9",
   "metadata": {
    "height": 30
   },
   "outputs": [],
   "source": [
    "graph.invoke(None,thread2)"
   ]
  },
  {
   "cell_type": "markdown",
   "id": "c59d3069-8fe7-4a05-9bfd-8e3a2e4590ad",
   "metadata": {},
   "source": [
    "Print out the state history, notice the `scratch` value change on the latest entries."
   ]
  },
  {
   "cell_type": "code",
   "execution_count": null,
   "id": "35088704-2b18-4d44-ba0e-dccbfde6ed9e",
   "metadata": {
    "height": 47
   },
   "outputs": [],
   "source": [
    "for state in graph.get_state_history(thread2):\n",
    "    print(state,\"\\n\")"
   ]
  },
  {
   "cell_type": "markdown",
   "id": "a5ea1bba-cf12-4493-948b-08b300054742",
   "metadata": {},
   "source": [
    "Continue to experiment!"
   ]
  },
  {
   "cell_type": "code",
   "execution_count": null,
   "id": "393f7f1f-68b4-4462-bfa5-b6472ef1304a",
   "metadata": {
    "height": 30
   },
   "outputs": [],
   "source": []
  },
  {
   "cell_type": "code",
   "execution_count": null,
   "id": "43ac0aa9-baa7-4b58-889d-2118cc00c6b5",
   "metadata": {
    "height": 30
   },
   "outputs": [],
   "source": []
  },
  {
   "cell_type": "code",
   "execution_count": null,
   "id": "ed6098b9-e2a9-4767-8cb5-346db835c8d2",
   "metadata": {
    "height": 30
   },
   "outputs": [],
   "source": []
  },
  {
   "cell_type": "code",
   "execution_count": null,
   "id": "2d23cf2a-a179-44dc-9ae3-2eddda4b67b4",
   "metadata": {
    "height": 30
   },
   "outputs": [],
   "source": []
  },
  {
   "cell_type": "code",
   "execution_count": null,
   "id": "14a6005b-0221-4f5e-9be0-0580c1d03126",
   "metadata": {
    "height": 30
   },
   "outputs": [],
   "source": []
  },
  {
   "cell_type": "code",
   "execution_count": null,
   "id": "41c1ec12-f1c8-41ae-bb3e-5f28997b9b99",
   "metadata": {
    "height": 30
   },
   "outputs": [],
   "source": []
  },
  {
   "cell_type": "code",
   "execution_count": null,
   "id": "5c8c07d7-be17-4c17-82c5-6fe1db028b8b",
   "metadata": {
    "height": 30
   },
   "outputs": [],
   "source": []
  },
  {
   "cell_type": "code",
   "execution_count": null,
   "id": "04592c8e-1cfe-4b26-93b5-caf1ed1e7d24",
   "metadata": {
    "height": 30
   },
   "outputs": [],
   "source": []
  },
  {
   "cell_type": "code",
   "execution_count": null,
   "id": "6181c4a9-0e71-4f67-b71f-18a225e37202",
   "metadata": {
    "height": 30
   },
   "outputs": [],
   "source": []
  },
  {
   "cell_type": "code",
   "execution_count": null,
   "id": "e1c478a9-7bfe-49e2-8a7d-1536271f45a6",
   "metadata": {
    "height": 30
   },
   "outputs": [],
   "source": []
  },
  {
   "cell_type": "code",
   "execution_count": null,
   "id": "0a6d6771-3fad-4f37-9b32-45b36ad85c59",
   "metadata": {
    "height": 30
   },
   "outputs": [],
   "source": []
  },
  {
   "cell_type": "code",
   "execution_count": null,
   "id": "a3629eb3-655d-467a-b413-63f547c2de08",
   "metadata": {
    "height": 30
   },
   "outputs": [],
   "source": []
  },
  {
   "cell_type": "code",
   "execution_count": null,
   "id": "f772f251-2b61-4d10-97c5-61cef9207a76",
   "metadata": {
    "height": 30
   },
   "outputs": [],
   "source": []
  },
  {
   "cell_type": "code",
   "execution_count": null,
   "id": "0de92979-7ac5-4a7c-91c1-10806b7d529c",
   "metadata": {
    "height": 30
   },
   "outputs": [],
   "source": []
  },
  {
   "cell_type": "code",
   "execution_count": null,
   "id": "479c4325-f625-4bbf-9d74-cc58f10763f2",
   "metadata": {
    "height": 30
   },
   "outputs": [],
   "source": []
  },
  {
   "cell_type": "code",
   "execution_count": null,
   "id": "c4070be7-72da-42f9-a25d-8a6c628788b8",
   "metadata": {
    "height": 30
   },
   "outputs": [],
   "source": []
  },
  {
   "cell_type": "code",
   "execution_count": null,
   "id": "9289efbe-7033-4f32-8482-2039c5f9db90",
   "metadata": {
    "height": 30
   },
   "outputs": [],
   "source": []
  },
  {
   "cell_type": "code",
   "execution_count": null,
   "id": "25e480bb-22ab-4acb-a42c-71da3d04a5b1",
   "metadata": {
    "height": 30
   },
   "outputs": [],
   "source": []
  },
  {
   "cell_type": "code",
   "execution_count": null,
   "id": "90dea35c-7483-4b3d-b5e3-76eb3a0fe536",
   "metadata": {
    "height": 30
   },
   "outputs": [],
   "source": []
  },
  {
   "cell_type": "code",
   "execution_count": null,
   "id": "e9ac5730-a9d5-4ea4-8546-ebcb265cf1da",
   "metadata": {
    "height": 30
   },
   "outputs": [],
   "source": []
  },
  {
   "cell_type": "code",
   "execution_count": null,
   "id": "96e1f28b-46d8-4bcd-b2e4-730376ee7ccf",
   "metadata": {
    "height": 30
   },
   "outputs": [],
   "source": []
  },
  {
   "cell_type": "code",
   "execution_count": null,
   "id": "22ac7020-b4f4-4bd2-a875-ccee93f83d83",
   "metadata": {
    "height": 30
   },
   "outputs": [],
   "source": []
  },
  {
   "cell_type": "code",
   "execution_count": null,
   "id": "61f79eb9-d1c9-44b0-9efd-a8f9b380332a",
   "metadata": {
    "height": 30
   },
   "outputs": [],
   "source": []
  },
  {
   "cell_type": "code",
   "execution_count": null,
   "id": "ce509206-bde1-43e4-a88f-8a565539d357",
   "metadata": {
    "height": 30
   },
   "outputs": [],
   "source": []
  },
  {
   "cell_type": "code",
   "execution_count": null,
   "id": "bdba1590-9e7b-4c0f-9492-81a07d286c55",
   "metadata": {
    "height": 30
   },
   "outputs": [],
   "source": []
  },
  {
   "cell_type": "code",
   "execution_count": null,
   "id": "aa8fe4a8-5372-479d-b248-af7a295c86c1",
   "metadata": {
    "height": 30
   },
   "outputs": [],
   "source": []
  },
  {
   "cell_type": "code",
   "execution_count": null,
   "id": "7514720a-14bc-4552-ade5-fa03f86f4c73",
   "metadata": {
    "height": 30
   },
   "outputs": [],
   "source": []
  }
 ],
 "metadata": {
  "kernelspec": {
   "display_name": "Python 3 (ipykernel)",
   "language": "python",
   "name": "python3"
  },
  "language_info": {
   "codemirror_mode": {
    "name": "ipython",
    "version": 3
   },
   "file_extension": ".py",
   "mimetype": "text/x-python",
   "name": "python",
   "nbconvert_exporter": "python",
   "pygments_lexer": "ipython3",
   "version": "3.11.9"
  }
 },
 "nbformat": 4,
 "nbformat_minor": 5
}
